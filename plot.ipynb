{
 "cells": [
  {
   "cell_type": "code",
   "execution_count": null,
   "metadata": {},
   "outputs": [],
   "source": [
    "import os\n",
    "import argparse\n",
    "\n",
    "import matplotlib.pyplot as plt\n",
    "\n",
    "from utils.lib_util import *\n",
    "\n",
    "args = get_args()\n",
    "args.dataset = 'mnist'\n",
    "args.algorithm = 3\n",
    "args.num_server_commu = 30\n",
    "args.num_client_commu = 5\n",
    "args.num_client_train = 5\n",
    "args.batch_size = 200\n",
    "args.num_all_client = 9\n",
    "args.num_all_server = 3\n",
    "args.num_client_data = 1000\n",
    "args.num_public_data = 50\n",
    "args.proportion = 0.8\n",
    "\n",
    "save_path = f'./data/dealed-data/{args.dataset}_algo_{args.algorithm}/alpha_{args.alpha}_T_{args.T}/'\n",
    "\n",
    "# file_name = f'server_commu_{args.num_server_commu}_client_commu_{args.num_client_commu}_client_train_{args.num_client_train}_batch_size_{args.batch_size}_num_all_client_{args.num_all_client}_num_all_server_{args.num_all_server}_num_client_data_{args.num_client_data}_num_public_data_{args.num_public_data}_proportion_{args.proportion}.npz'\n",
    "\n",
    "file_path = save_path + (\n",
    "    f'server_commu_{args.num_server_commu}'\n",
    "    f'_client_commu_{args.num_client_commu}'\n",
    "    f'_client_train_{args.num_client_train}'\n",
    "    f'_batch_size_{args.batch_size}'\n",
    "    f'_num_all_client_{args.num_all_client}'\n",
    "    f'_num_all_server_{args.num_all_server}'\n",
    "    f'_num_client_data_{args.num_client_data}'\n",
    "    f'_num_public_data_{args.num_public_data}'\n",
    "    f'_proportion_{args.proportion}.npz')\n",
    "\n",
    "print(file_path)\n"
   ]
  }
 ],
 "metadata": {
  "kernelspec": {
   "display_name": "fl",
   "language": "python",
   "name": "python3"
  },
  "language_info": {
   "name": "python",
   "version": "3.11.5"
  }
 },
 "nbformat": 4,
 "nbformat_minor": 2
}
