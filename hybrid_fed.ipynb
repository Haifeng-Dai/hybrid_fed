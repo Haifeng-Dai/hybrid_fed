{
 "cells": [
  {
   "cell_type": "code",
   "execution_count": 1,
   "metadata": {},
   "outputs": [
    {
     "name": "stdout",
     "output_type": "stream",
     "text": [
      "\u001b[H\u001b[2Jcuda\n"
     ]
    }
   ],
   "source": [
    "%reset -f\n",
    "%clear\n",
    "\n",
    "import torch\n",
    "import torchvision\n",
    "import numpy\n",
    "import copy\n",
    "import tqdm\n",
    "import os\n",
    "\n",
    "from utils.model_util import LeNet5\n",
    "from utils.data_util import *\n",
    "from utils.train_util import *\n",
    "\n",
    "torch.backends.cudnn.enabled = True\n",
    "torch.backends.cudnn.benchmark = True\n",
    "\n",
    "if torch.cuda.is_available():\n",
    "    device = 'cuda'\n",
    "else:\n",
    "    device = 'cpu'\n",
    "print(device)"
   ]
  },
  {
   "cell_type": "code",
   "execution_count": 2,
   "metadata": {},
   "outputs": [
    {
     "name": "stdout",
     "output_type": "stream",
     "text": [
      "file existed.\n"
     ]
    }
   ],
   "source": [
    "save_path = './data/dealed-data/'\n",
    "\n",
    "dataset = 'mnist'\n",
    "file_path = save_path + 'train_dataset_splited_' + dataset + '.pt'\n",
    "if os.path.exists(file_path):\n",
    "    train_dataset_splited = torch.load(file_path)\n",
    "    print('file existed.')\n",
    "else:\n",
    "    if not os.path.exists(save_path):\n",
    "        os.mkdir(save_path)\n",
    "    train_dataset, test_dataset = get_dataset(dataset)\n",
    "    train_dataset_splited = split_data(train_dataset)\n",
    "    torch.save(train_dataset_splited, file_path)"
   ]
  },
  {
   "cell_type": "code",
   "execution_count": 3,
   "metadata": {},
   "outputs": [],
   "source": [
    "alpha = 0.8\n",
    "beta = 0.2\n",
    "\n",
    "num_all_client = 6\n",
    "num_all_server = 2\n",
    "all_client = [i for i in range(num_all_client)]\n",
    "num_server_commu = 3\n",
    "num_client_commu = 3\n",
    "num_client_train = 3\n",
    "\n",
    "server_1_client = [0, 1, 2]\n",
    "server_2_client = [3, 4, 5]\n",
    "\n",
    "idx_client_target = train_data_split(train_dataset_splited, all_client)\n",
    "all_target = train_dataset_splited.keys()"
   ]
  },
  {
   "cell_type": "code",
   "execution_count": 4,
   "metadata": {},
   "outputs": [],
   "source": [
    "train_dataset_client = []\n",
    "for client in all_client:\n",
    "    train_dataset_client.append([])\n",
    "for client in all_client:\n",
    "    for target in all_target:\n",
    "        train_dataset_client[client].extend(idx_to_dataset(train_dataset_splited[target], idx_client_target[client][target]))"
   ]
  },
  {
   "cell_type": "code",
   "execution_count": null,
   "metadata": {},
   "outputs": [],
   "source": [
    "initial_model = LeNet5(28, 28, 1, 10)\n",
    "# for client in all_client:\n",
    "#     trained_model_client = train_model(initial_model, train_dataset_client[client], device)\n",
    "client_model = []\n",
    "for client in all_client:\n",
    "    client_model.append(initial_model)"
   ]
  },
  {
   "cell_type": "code",
   "execution_count": null,
   "metadata": {},
   "outputs": [],
   "source": [
    "for epoch_server_commu in range(num_server_commu):\n",
    "    if epoch_server_commu == 0:\n",
    "        loss_function = loss_without_distillation()\n",
    "    else:\n",
    "        loss_function = loss_with_distillation(alpha, beta)\n",
    "    for epoch_client_commu in range(num_client_commu):\n",
    "        for client in all_client:\n",
    "            trained_model_client = train_model(\n",
    "                model=client_model[client],\n",
    "                dataset=train_dataset_client[client],\n",
    "                criterion=loss_function,\n",
    "                device=device,\n",
    "                epochs=num_client_train)\n",
    "            client_model[client].append(trained_model_client)\n",
    "        edge_server_aggeragation()\n",
    "    edge_server_communicate()"
   ]
  },
  {
   "cell_type": "code",
   "execution_count": 5,
   "metadata": {},
   "outputs": [
    {
     "name": "stdout",
     "output_type": "stream",
     "text": [
      "<class 'list'> 9996\n"
     ]
    }
   ],
   "source": [
    "a = train_dataset_client[0]\n",
    "print(type(a), len(a))"
   ]
  }
 ],
 "metadata": {
  "kernelspec": {
   "display_name": "federated_learning",
   "language": "python",
   "name": "python3"
  },
  "language_info": {
   "codemirror_mode": {
    "name": "ipython",
    "version": 3
   },
   "file_extension": ".py",
   "mimetype": "text/x-python",
   "name": "python",
   "nbconvert_exporter": "python",
   "pygments_lexer": "ipython3",
   "version": "3.11.5"
  }
 },
 "nbformat": 4,
 "nbformat_minor": 2
}
