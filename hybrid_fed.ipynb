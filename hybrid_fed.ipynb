{
 "cells": [
  {
   "cell_type": "code",
   "execution_count": 1,
   "metadata": {},
   "outputs": [
    {
     "name": "stdout",
     "output_type": "stream",
     "text": [
      "\u001b[H\u001b[2Jcuda\n"
     ]
    }
   ],
   "source": [
    "%reset -f\n",
    "%clear\n",
    "\n",
    "import torch\n",
    "import os\n",
    "\n",
    "from torch.utils.data import DataLoader\n",
    "\n",
    "from utils.model_util import LeNet5, CNN\n",
    "from utils.data_util import *\n",
    "from utils.lib_util import *\n",
    "from utils.train_util import *\n",
    "\n",
    "torch.backends.cudnn.enabled = True\n",
    "torch.backends.cudnn.benchmark = True\n",
    "torch.set_printoptions(precision=2,\n",
    "                       threshold=1000,\n",
    "                       edgeitems=5,\n",
    "                       linewidth=1000,\n",
    "                       sci_mode=False)\n",
    "\n",
    "if torch.cuda.is_available():\n",
    "    device = 'cuda'\n",
    "else:\n",
    "    device = 'cpu'\n",
    "print(device)"
   ]
  },
  {
   "cell_type": "code",
   "execution_count": 2,
   "metadata": {},
   "outputs": [
    {
     "name": "stdout",
     "output_type": "stream",
     "text": [
      "file existed.\n"
     ]
    }
   ],
   "source": [
    "save_path = './data/dealed-data/'\n",
    "\n",
    "dataset = 'mnist'\n",
    "file_path = save_path + dataset + '_train_dataset_splited.pt'\n",
    "if os.path.exists(file_path):\n",
    "    [train_dataset_splited, test_dataset_o] = torch.load(file_path)\n",
    "    print('file existed.')\n",
    "else:\n",
    "    if not os.path.exists(save_path):\n",
    "        os.mkdir(save_path)\n",
    "    train_dataset_o, test_dataset_o = get_dataset(dataset)\n",
    "    train_dataset_splited = split_data(train_dataset_o)\n",
    "    torch.save([train_dataset_splited, test_dataset_o], file_path)"
   ]
  },
  {
   "cell_type": "code",
   "execution_count": 3,
   "metadata": {},
   "outputs": [],
   "source": [
    "alpha = 0.8\n",
    "beta = 0.2\n",
    "\n",
    "num_all_client = 6\n",
    "num_all_server = 2\n",
    "all_client = [i for i in range(num_all_client)]\n",
    "all_server = [i for i in range(num_all_server)]\n",
    "num_server_commu = 2\n",
    "num_client_commu = 2\n",
    "num_client_train = 2\n",
    "num_public_train = 2\n",
    "\n",
    "server_client_1 = [0, 1, 2]\n",
    "server_client_2 = [3, 4, 5]\n",
    "server_client = [server_client_1, server_client_2]\n",
    "neighbor_server = [1, 0]\n",
    "\n",
    "idx_client_target = train_data_split(train_dataset_splited, all_client)\n",
    "all_target = train_dataset_splited.keys()\n",
    "\n",
    "public_idx, test_idx = split_idx_proportion([i for i in range(len(test_dataset_o))], [0.2, 0.8])\n",
    "public_dataset = [test_dataset_o[idx] for idx in public_idx]\n",
    "test_dataset = [test_dataset_o[idx] for idx in test_idx]\n",
    "\n",
    "train_dataset_client = get_list(num_all_client)\n",
    "for client in all_client:\n",
    "    for target in all_target:\n",
    "        train_dataset_client_new = [train_dataset_splited[target][idx] for idx in idx_client_target[client][target]]\n",
    "        train_dataset_client[client].extend(train_dataset_client_new)\n",
    "\n",
    "initial_model = LeNet5(28, 28, 1, 10)\n",
    "\n",
    "client_model = get_list(num_all_client, initial_model)\n",
    "model_server = get_list(num_all_server)"
   ]
  },
  {
   "cell_type": "code",
   "execution_count": 4,
   "metadata": {},
   "outputs": [
    {
     "ename": "AttributeError",
     "evalue": "'tuple' object has no attribute 'state_dict'",
     "output_type": "error",
     "traceback": [
      "\u001b[0;31m---------------------------------------------------------------------------\u001b[0m",
      "\u001b[0;31mAttributeError\u001b[0m                            Traceback (most recent call last)",
      "Cell \u001b[0;32mIn[4], line 29\u001b[0m\n\u001b[1;32m     26\u001b[0m \u001b[38;5;28;01mfor\u001b[39;00m server \u001b[38;5;129;01min\u001b[39;00m all_server:\n\u001b[1;32m     27\u001b[0m     server_client_model \u001b[38;5;241m=\u001b[39m [client_model[client]\n\u001b[1;32m     28\u001b[0m                         \u001b[38;5;28;01mfor\u001b[39;00m client \u001b[38;5;129;01min\u001b[39;00m server_client[server]]\n\u001b[0;32m---> 29\u001b[0m     model_server[server] \u001b[38;5;241m=\u001b[39m \u001b[43mEdgeServer\u001b[49m\u001b[43m(\u001b[49m\u001b[43mserver_client_model\u001b[49m\u001b[43m)\u001b[49m\u001b[38;5;241m.\u001b[39maverage()\n",
      "File \u001b[0;32m~/git_res/hybrid_fed/utils/train_util.py:50\u001b[0m, in \u001b[0;36mEdgeServer.__init__\u001b[0;34m(self, client_model)\u001b[0m\n\u001b[1;32m     48\u001b[0m i \u001b[38;5;241m=\u001b[39m \u001b[38;5;241m0\u001b[39m\n\u001b[1;32m     49\u001b[0m \u001b[38;5;28;01mfor\u001b[39;00m client \u001b[38;5;129;01min\u001b[39;00m client_model:\n\u001b[0;32m---> 50\u001b[0m     \u001b[38;5;28mself\u001b[39m\u001b[38;5;241m.\u001b[39mclient_params[i] \u001b[38;5;241m=\u001b[39m \u001b[43mclient\u001b[49m\u001b[38;5;241;43m.\u001b[39;49m\u001b[43mstate_dict\u001b[49m()\n\u001b[1;32m     51\u001b[0m     i \u001b[38;5;241m+\u001b[39m\u001b[38;5;241m=\u001b[39m \u001b[38;5;241m1\u001b[39m\n",
      "\u001b[0;31mAttributeError\u001b[0m: 'tuple' object has no attribute 'state_dict'"
     ]
    }
   ],
   "source": [
    "for epoch_server_commu in range(num_server_commu):\n",
    "    for epoch_client_commu in range(num_client_commu):\n",
    "        # 边缘服务器协调其客户端进行联邦学习\n",
    "        for server in all_server:\n",
    "            for client in server_client[server]:\n",
    "                # 在私有数据集上进行训练\n",
    "                client_model[client] = train_model(\n",
    "                    model=client_model[client],\n",
    "                    dataset=train_dataset_client[client],\n",
    "                    device=device,\n",
    "                    epochs=num_client_train)\n",
    "                if epoch_server_commu != 0:\n",
    "                    # 在public数据集上进行训练\n",
    "                    neighbor_server_model = [client_model[client] for client in server_client[neighbor_server[server]]]\n",
    "                    weight = torch.tensor([1/len(neighbor_server_model) for _ in neighbor_server_model]).to(device)\n",
    "                    client_model[client] = train_model_disti(\n",
    "                        model=client_model[client],\n",
    "                        neighbor_server_model = neighbor_server_model,\n",
    "                        weight= weight,\n",
    "                        dataset=public_dataset,\n",
    "                        device=device,\n",
    "                        epochs=num_public_train,\n",
    "                        num_target=len(all_target),\n",
    "                        alpha=alpha,\n",
    "                        beta=beta)\n",
    "            for server in all_server:\n",
    "                server_client_model = [client_model[client]\n",
    "                                    for client in server_client[server]]\n",
    "                model_server[server] = EdgeServer(server_client_model).average()"
   ]
  },
  {
   "cell_type": "code",
   "execution_count": null,
   "metadata": {},
   "outputs": [
    {
     "name": "stdout",
     "output_type": "stream",
     "text": [
      "Test Accuracy: 11.01%\n"
     ]
    }
   ],
   "source": [
    "the_model = deepcopy(model_server[server]).eval().to(device)\n",
    "eval_model(the_model, test_dataset, device)\n",
    "# test_dataloader = DataLoader(test_dataset, 1)\n",
    "# for data, _ in test_dataloader:\n",
    "#     output = the_model(data.to(device))\n",
    "#     print(output.size())\n",
    "#     print(output[0].tolist())\n",
    "#     break"
   ]
  }
 ],
 "metadata": {
  "kernelspec": {
   "display_name": "federated_learning",
   "language": "python",
   "name": "python3"
  },
  "language_info": {
   "codemirror_mode": {
    "name": "ipython",
    "version": 3
   },
   "file_extension": ".py",
   "mimetype": "text/x-python",
   "name": "python",
   "nbconvert_exporter": "python",
   "pygments_lexer": "ipython3",
   "version": "3.11.5"
  }
 },
 "nbformat": 4,
 "nbformat_minor": 2
}
