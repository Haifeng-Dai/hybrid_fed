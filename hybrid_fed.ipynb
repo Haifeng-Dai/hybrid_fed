{
 "cells": [
  {
   "cell_type": "code",
   "execution_count": 1,
   "metadata": {},
   "outputs": [
    {
     "name": "stdout",
     "output_type": "stream",
     "text": [
      "\u001b[H\u001b[2Jcuda\n"
     ]
    }
   ],
   "source": [
    "%reset -f\n",
    "%clear\n",
    "\n",
    "import torch\n",
    "import torchvision\n",
    "import numpy\n",
    "import copy\n",
    "import tqdm\n",
    "\n",
    "from utils.model import LeNet5\n",
    "from utils.lib import *\n",
    "\n",
    "torch.backends.cudnn.enabled = True\n",
    "torch.backends.cudnn.benchmark=True\n",
    "\n",
    "if torch.cuda.is_available():\n",
    "    device = 'cuda'\n",
    "else:\n",
    "    device = 'cpu'\n",
    "print(device)"
   ]
  },
  {
   "cell_type": "code",
   "execution_count": 2,
   "metadata": {},
   "outputs": [],
   "source": [
    "train_dataset, test_dataset = get_dataset(dataset='mnist')\n",
    "\n",
    "num_all_client = 5\n",
    "num_data = 12000\n",
    "communication_round = 1\n",
    "epochs = 1\n",
    "num_client = 5\n",
    "\n",
    "model = LeNet5(28, 28, 1, 10)\n",
    "idx_splited = idx_split(\n",
    "    dataset=train_dataset,\n",
    "    n_dataset=num_all_client,\n",
    "    n_data_each_set=num_data\n",
    ")\n",
    "dataset_client = dict()\n",
    "for i in range(num_all_client):\n",
    "    dataset_client[i] = DealDataset(train_dataset, idx_splited[i])\n",
    "\n",
    "server_model = copy.deepcopy(model)\n",
    "tqdm_position = 0\n",
    "for i in range(communication_round):\n",
    "    client = dict()\n",
    "    client_param = dict()\n",
    "    choicen_client = numpy.random.choice(\n",
    "        range(num_all_client), num_client, replace=False)\n",
    "    for j, k in enumerate(choicen_client):\n",
    "        client[j] = train_model(\n",
    "            model=server_model,\n",
    "            dataset=dataset_client[k],\n",
    "            device=device,\n",
    "            epochs=epochs,\n",
    "            tqdm_position=tqdm_position+1\n",
    "        )\n",
    "        client_param[j] = client[j].state_dict()\n",
    "        # eval_model(client[j], test_dataset, device)\n",
    "    server_model1 = Server(model=model, client_params=client_param).average()\n",
    "    server_model2 = Server(model=model, client_params=client_param).weighted_average(\n",
    "        weight=[0.1, 0.15, 0.2, 0.25, 0.3])"
   ]
  },
  {
   "cell_type": "code",
   "execution_count": 3,
   "metadata": {},
   "outputs": [
    {
     "name": "stdout",
     "output_type": "stream",
     "text": [
      "Test Accuracy: 90.39%\n",
      "Test Accuracy: 90.83%\n"
     ]
    }
   ],
   "source": [
    "eval_model(server_model1, test_dataset, device)\n",
    "eval_model(server_model2, test_dataset, device)"
   ]
  },
  {
   "cell_type": "code",
   "execution_count": 4,
   "metadata": {},
   "outputs": [
    {
     "name": "stdout",
     "output_type": "stream",
     "text": [
      "Test Accuracy: 90.75%\n",
      "Test Accuracy: 89.36%\n",
      "Test Accuracy: 89.73%\n",
      "Test Accuracy: 90.93%\n",
      "Test Accuracy: 89.71%\n",
      "Test Accuracy: 10.28%\n",
      "Test Accuracy: 10.28%\n"
     ]
    }
   ],
   "source": [
    "for i in range(num_all_client):\n",
    "    eval_model(client[i], test_dataset, device)\n",
    "eval_model(server_model, test_dataset, device)\n",
    "eval_model(model, test_dataset, device)"
   ]
  }
 ],
 "metadata": {
  "kernelspec": {
   "display_name": "federated_learning",
   "language": "python",
   "name": "python3"
  },
  "language_info": {
   "codemirror_mode": {
    "name": "ipython",
    "version": 3
   },
   "file_extension": ".py",
   "mimetype": "text/x-python",
   "name": "python",
   "nbconvert_exporter": "python",
   "pygments_lexer": "ipython3",
   "version": "3.11.5"
  }
 },
 "nbformat": 4,
 "nbformat_minor": 2
}
