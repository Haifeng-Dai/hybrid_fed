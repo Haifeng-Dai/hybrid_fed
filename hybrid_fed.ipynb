{
 "cells": [
  {
   "cell_type": "code",
   "execution_count": 1,
   "metadata": {},
   "outputs": [
    {
     "name": "stdout",
     "output_type": "stream",
     "text": [
      "\u001b[H\u001b[2J"
     ]
    }
   ],
   "source": [
    "%reset -f\n",
    "%clear"
   ]
  },
  {
   "cell_type": "code",
   "execution_count": 2,
   "metadata": {},
   "outputs": [
    {
     "name": "stdout",
     "output_type": "stream",
     "text": [
      "cuda\n"
     ]
    }
   ],
   "source": [
    "import torch\n",
    "import os\n",
    "from tqdm import tqdm\n",
    "import matplotlib.pyplot as plt\n",
    "\n",
    "from torch.utils.data import DataLoader\n",
    "from utils.model_util import LeNet5, CNN\n",
    "from utils.data_util import *\n",
    "from utils.lib_util import *\n",
    "from utils.train_util import *\n",
    "\n",
    "torch.backends.cudnn.enabled = True\n",
    "torch.backends.cudnn.benchmark = True\n",
    "torch.set_printoptions(precision=2,\n",
    "                       threshold=1000,\n",
    "                       edgeitems=5,\n",
    "                       linewidth=1000,\n",
    "                       sci_mode=False)\n",
    "# 是否使用显卡加速\n",
    "if torch.cuda.is_available():\n",
    "    device = 'cuda'\n",
    "else:\n",
    "    device = 'cpu'\n",
    "print(device)"
   ]
  },
  {
   "cell_type": "code",
   "execution_count": 3,
   "metadata": {},
   "outputs": [],
   "source": [
    "# %% 原始数据处理\n",
    "save_path = './data/dealed-data/'\n",
    "\n",
    "dataset = 'mnist'\n",
    "# file_path = save_path + dataset + '_train_dataset_splited.pt'\n",
    "# if os.path.exists(file_path):\n",
    "#     [train_dataset_splited, test_dataset_o] = torch.load(file_path)\n",
    "#     print('file existed.')\n",
    "# else:\n",
    "#     if not os.path.exists(save_path):\n",
    "#         os.mkdir(save_path)\n",
    "#     train_dataset_o, test_dataset_o = get_dataset(dataset)\n",
    "#     TrainDatasetSplited = SplitData(train_dataset_o)\n",
    "#     train_dataset_splited = TrainDatasetSplited.splited_data\n",
    "#     all_target = TrainDatasetSplited.targets\n",
    "#     torch.save([train_dataset_splited, test_dataset_o], file_path)\n",
    "\n",
    "train_dataset_o, test_dataset_o = get_dataset(dataset)\n",
    "TrainDatasetSplited = SplitData(train_dataset_o)\n",
    "all_target = TrainDatasetSplited.targets\n",
    "splited_data = TrainDatasetSplited.split_data()\n",
    "num_class = len(all_target)\n",
    "num_data_target_all = TrainDatasetSplited.num_data_target()\n",
    "train_dataset_client = TrainDatasetSplited.all_iid(2, 1000)"
   ]
  },
  {
   "cell_type": "code",
   "execution_count": 4,
   "metadata": {},
   "outputs": [
    {
     "name": "stdout",
     "output_type": "stream",
     "text": [
      "[5923, 6742, 5958, 6131, 5842, 5421, 5918, 6265, 5851, 5949]\n",
      "2 1000\n"
     ]
    }
   ],
   "source": [
    "print(num_data_target_all)\n",
    "print(len(train_dataset_client), len(train_dataset_client[1]))"
   ]
  },
  {
   "cell_type": "code",
   "execution_count": null,
   "metadata": {},
   "outputs": [],
   "source": [
    "# %% 参数定义\n",
    "alpha = 0.5\n",
    "num_server_commu = 5\n",
    "num_client_commu = 5\n",
    "num_client_train = 5\n",
    "num_public_train = 2\n",
    "\n",
    "num_all_client = 6\n",
    "num_all_server = 2\n",
    "all_client = number_list(num_all_client)\n",
    "all_server = number_list(num_all_server)\n",
    "server_client_1 = [0, 1, 2]\n",
    "server_client_2 = [3, 4, 5]\n",
    "server_client = [server_client_1, server_client_2]\n",
    "neighbor_server = [[1], [0]]"
   ]
  },
  {
   "cell_type": "code",
   "execution_count": null,
   "metadata": {},
   "outputs": [],
   "source": [
    "# %% 训练集分配\n",
    "# idx_client_target = train_data_split(train_dataset_splited, all_client)\n",
    "\n",
    "public_idx, test_idx = split_idx_proportion(\n",
    "    number_list(len(test_dataset_o)), [0.2, 0.8])\n",
    "\n",
    "public_dataset = DealDataset(test_dataset_o, public_idx)\n",
    "test_dataset = DealDataset(test_dataset_o, test_idx)\n",
    "\n",
    "# train_dataset_client = list_same_term(num_all_client)\n",
    "# for client in all_client:\n",
    "#     for target in all_target:\n",
    "#         train_dataset_client_target = DealDataset(\n",
    "#             train_dataset_splited[target], idx_client_target[client][target])\n",
    "#         train_dataset_client_new = [\n",
    "#             item for item in train_dataset_client_target]\n",
    "#         train_dataset_client[client].extend(\n",
    "#             [item for item in train_dataset_client_target])\n",
    "\n",
    "print(len(train_dataset_client), len(train_dataset_client[0]))"
   ]
  },
  {
   "cell_type": "code",
   "execution_count": null,
   "metadata": {},
   "outputs": [],
   "source": [
    "# %% 模型初始化\n",
    "initial_model = LeNet5(28, 28, 1, num_class)\n",
    "\n",
    "client_model = list_same_term(num_all_client, initial_model)\n",
    "server_model = list_same_term(num_all_server)\n",
    "server_accuracy = list_same_term(num_all_server)\n",
    "client_accuracy = list_same_term(num_all_client)\n",
    "server_client_model = list_same_term(num_all_server)\n",
    "server_model_distillation_accuracy = list_same_term(num_all_server)"
   ]
  },
  {
   "cell_type": "code",
   "execution_count": null,
   "metadata": {},
   "outputs": [],
   "source": [
    "# %% 模型训练\n",
    "# 对每个服务器通讯幕进行循环\n",
    "for epoch_server_commu in tqdm(range(num_server_commu), desc='epoch_server_commu', position=0, leave=False):\n",
    "    # 所有边缘服务器分别协调其客户端进行多轮联邦学习\n",
    "    for epoch_client_commu in tqdm(range(num_client_commu), desc='epoch_client_commu', position=1, leave=False):\n",
    "        # 所有边缘服务器分别协调其客户端进行联邦学习\n",
    "        for server in tqdm(all_server, desc='server', position=2, leave=False):\n",
    "            # 每个服务器下单客户端分别训练\n",
    "            for client in tqdm(server_client[server], desc='client', position=3, leave=False):\n",
    "                # 单个服务器下的客户端在私有数据集上进行num_client_train轮训练\n",
    "                client_model[client], loss_sum = train_model(\n",
    "                    model=client_model[client],\n",
    "                    dataset=train_dataset_client[client],\n",
    "                    device=device,\n",
    "                    epochs=num_client_train)\n",
    "                # 单个服务器下的客户端在公开数据集上进行num_public_train轮训练\n",
    "                if epoch_server_commu != 0:\n",
    "                    neighbor_server_model = [\n",
    "                        server_model_distillation[server] for server in neighbor_server[server]]\n",
    "                    weight = torch.tensor(\n",
    "                        [1/len(neighbor_server_model) for _ in neighbor_server_model])\n",
    "                    client_model[client], loss_sum = train_model_disti(\n",
    "                        model=client_model[client],\n",
    "                        neighbor_server_model=neighbor_server_model,\n",
    "                        weight=weight,\n",
    "                        dataset=public_dataset,\n",
    "                        device=device,\n",
    "                        epochs=num_public_train,\n",
    "                        num_target=len(all_target),\n",
    "                        alpha=alpha)\n",
    "                # 在训练后评估该服务器下的客户端\n",
    "                client_accuracy[client].append(eval_model(\n",
    "                    client_model[client], test_dataset, device))\n",
    "            # 在单个服务器下客户端训练完成后更新该服务器下客户端的模型\n",
    "            server_client_model[server] = [client_model[client]\n",
    "                                           for client in server_client[server]]\n",
    "            # 聚合获得单个服务器模型\n",
    "            server_model[server] = EdgeServer(\n",
    "                server_client_model[server]).average()\n",
    "            # 评估单个服务器模型\n",
    "            server_accuracy[server].append(eval_model(server_model[server], test_dataset, device).cpu())\n",
    "    # 服务器在多轮更新联邦学习后固定用于蒸馏的模型\n",
    "    server_model_distillation = deepcopy(server_model)\n",
    "    # 评估该蒸馏模型\n",
    "    for server in all_server:\n",
    "        server_model_distillation_accuracy[server].append(eval_model(\n",
    "            server_model_distillation[server], test_dataset, device).cpu())"
   ]
  },
  {
   "cell_type": "code",
   "execution_count": null,
   "metadata": {},
   "outputs": [],
   "source": [
    "# %% 作图\n",
    "x = [i for i in range(num_server_commu * num_client_commu)]\n",
    "line_list = []\n",
    "for server in all_server:\n",
    "    line_list.append(plt.plot(x, server_accuracy[server]))\n",
    "\n",
    "plt.show()"
   ]
  }
 ],
 "metadata": {
  "kernelspec": {
   "display_name": "federated_learning",
   "language": "python",
   "name": "python3"
  },
  "language_info": {
   "codemirror_mode": {
    "name": "ipython",
    "version": 3
   },
   "file_extension": ".py",
   "mimetype": "text/x-python",
   "name": "python",
   "nbconvert_exporter": "python",
   "pygments_lexer": "ipython3",
   "version": "3.11.5"
  }
 },
 "nbformat": 4,
 "nbformat_minor": 2
}
