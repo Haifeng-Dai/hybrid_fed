{
 "cells": [
  {
   "cell_type": "code",
   "execution_count": 5,
   "metadata": {},
   "outputs": [
    {
     "name": "stdout",
     "output_type": "stream",
     "text": [
      "cuda\n"
     ]
    }
   ],
   "source": [
    "import torch\n",
    "import torchvision\n",
    "import numpy\n",
    "import copy\n",
    "import tqdm\n",
    "\n",
    "from utils.model import LeNet5\n",
    "from utils.lib import *\n",
    "\n",
    "torch.backends.cudnn.enabled = True\n",
    "torch.backends.cudnn.benchmark=True\n",
    "\n",
    "if torch.cuda.is_available():\n",
    "    device = 'cuda'\n",
    "else:\n",
    "    device = 'cpu'\n",
    "print(device)"
   ]
  },
  {
   "cell_type": "code",
   "execution_count": 7,
   "metadata": {},
   "outputs": [
    {
     "name": "stderr",
     "output_type": "stream",
     "text": [
      "communication_round:   0%|          | 0/2 [00:00<?, ?it/s]"
     ]
    },
    {
     "name": "stderr",
     "output_type": "stream",
     "text": [
      "communication_round: 100%|██████████| 2/2 [00:05<00:00,  2.62s/it]\n"
     ]
    }
   ],
   "source": [
    "train_dataset = torchvision.datasets.MNIST(\n",
    "    root='./data',\n",
    "    train=True,\n",
    "    transform=torchvision.transforms.ToTensor(),\n",
    "    download=True\n",
    ")\n",
    "test_dataset = torchvision.datasets.MNIST(\n",
    "    root='./data',\n",
    "    train=False,\n",
    "    transform=torchvision.transforms.ToTensor()\n",
    ")\n",
    "\n",
    "n_total_client = 5\n",
    "n_data = 12000\n",
    "communication_round = 2\n",
    "epochs = 1\n",
    "n_client = 2\n",
    "\n",
    "model = LeNet5(28, 28, 1, 10)\n",
    "idx_splited = idx_split(\n",
    "    dataset=train_dataset,\n",
    "    n_dataset=n_total_client,\n",
    "    n_data_each_set=n_data\n",
    ")\n",
    "dataset_client = dict()\n",
    "for i in range(n_total_client):\n",
    "    dataset_client[i] = DealDataset(train_dataset, idx_splited[i])\n",
    "\n",
    "server_model = copy.deepcopy(model)\n",
    "tqdm_position = 0\n",
    "for i in tqdm.tqdm(range(communication_round),\n",
    "                   desc='communication_round',\n",
    "                   position=tqdm_position):\n",
    "    client = dict()\n",
    "    client_param = dict()\n",
    "    choicen_client = numpy.random.choice(\n",
    "        range(n_total_client), n_client, replace=False)\n",
    "    for j, k in enumerate(choicen_client):\n",
    "        client[j] = train_model(\n",
    "            model=server_model,\n",
    "            dataset=dataset_client[k],\n",
    "            device=device,\n",
    "            epochs=epochs,\n",
    "            tqdm_position=tqdm_position+1)\n",
    "        client_param[j] = client[j].state_dict()\n",
    "    server_model = Server(model=model, client_params=client_param).model"
   ]
  },
  {
   "cell_type": "code",
   "execution_count": 8,
   "metadata": {},
   "outputs": [
    {
     "name": "stdout",
     "output_type": "stream",
     "text": [
      "Test Accuracy: 93.89%\n",
      "Test Accuracy: 94.04%\n",
      "Test Accuracy: 94.29%\n"
     ]
    }
   ],
   "source": [
    "eval_model(client[0], test_dataset, device)\n",
    "eval_model(client[1], test_dataset, device)\n",
    "eval_model(server_model, test_dataset, device)"
   ]
  }
 ],
 "metadata": {
  "kernelspec": {
   "display_name": "federated_learning",
   "language": "python",
   "name": "python3"
  },
  "language_info": {
   "codemirror_mode": {
    "name": "ipython",
    "version": 3
   },
   "file_extension": ".py",
   "mimetype": "text/x-python",
   "name": "python",
   "nbconvert_exporter": "python",
   "pygments_lexer": "ipython3",
   "version": "3.11.5"
  }
 },
 "nbformat": 4,
 "nbformat_minor": 2
}
