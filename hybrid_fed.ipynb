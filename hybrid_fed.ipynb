{
 "cells": [
  {
   "cell_type": "code",
   "execution_count": 1,
   "metadata": {},
   "outputs": [
    {
     "name": "stdout",
     "output_type": "stream",
     "text": [
      "\u001b[H\u001b[2Jcuda\n"
     ]
    }
   ],
   "source": [
    "%reset -f\n",
    "%clear\n",
    "\n",
    "import torch\n",
    "import os\n",
    "\n",
    "from torch.utils.data import DataLoader\n",
    "\n",
    "from utils.model_util import LeNet5\n",
    "from utils.data_util import *\n",
    "from utils.train_util import *\n",
    "\n",
    "torch.backends.cudnn.enabled = True\n",
    "torch.backends.cudnn.benchmark = True\n",
    "\n",
    "if torch.cuda.is_available():\n",
    "    device = 'cuda'\n",
    "else:\n",
    "    device = 'cpu'\n",
    "print(device)"
   ]
  },
  {
   "cell_type": "code",
   "execution_count": 2,
   "metadata": {},
   "outputs": [
    {
     "name": "stdout",
     "output_type": "stream",
     "text": [
      "file existed.\n"
     ]
    }
   ],
   "source": [
    "save_path = './data/dealed-data/'\n",
    "\n",
    "dataset = 'mnist'\n",
    "file_path = save_path + dataset + '_train_dataset_splited.pt'\n",
    "if os.path.exists(file_path):\n",
    "    [train_dataset_splited, test_dataset_o] = torch.load(file_path)\n",
    "    print('file existed.')\n",
    "else:\n",
    "    if not os.path.exists(save_path):\n",
    "        os.mkdir(save_path)\n",
    "    train_dataset_o, test_dataset_o = get_dataset(dataset)\n",
    "    train_dataset_splited = split_data(train_dataset_o)\n",
    "    torch.save([train_dataset_splited, test_dataset_o], file_path)"
   ]
  },
  {
   "cell_type": "code",
   "execution_count": 3,
   "metadata": {},
   "outputs": [],
   "source": [
    "alpha = 0.8\n",
    "beta = 0.2\n",
    "\n",
    "num_all_client = 6\n",
    "num_all_server = 2\n",
    "all_client = [i for i in range(num_all_client)]\n",
    "all_server = [i for i in range(num_all_server)]\n",
    "num_server_commu = 3\n",
    "num_client_commu = 3\n",
    "num_client_train = 3\n",
    "\n",
    "server_client_1 = [0, 1, 2]\n",
    "server_client_2 = [3, 4, 5]\n",
    "server_client = [server_client_1, server_client_2]\n",
    "\n",
    "idx_client_target = train_data_split(train_dataset_splited, all_client)\n",
    "all_target = train_dataset_splited.keys()\n",
    "\n",
    "public_idx, test_idx = split_idx_proportion([i for i in range(len(test_dataset_o))], [0.2, 0.8])\n",
    "public_dataset = [test_dataset_o[idx] for idx in public_idx]\n",
    "test_dataset = [test_dataset_o[idx] for idx in test_idx]"
   ]
  },
  {
   "cell_type": "code",
   "execution_count": 4,
   "metadata": {},
   "outputs": [],
   "source": [
    "train_dataset_client = []\n",
    "for client in all_client:\n",
    "    train_dataset_client.append([])\n",
    "for client in all_client:\n",
    "    for target in all_target:\n",
    "        # train_dataset_client_new = idx_to_dataset(train_dataset_splited[target], idx_client_target[client][target])\n",
    "        train_dataset_client_new = [train_dataset_splited[target][idx] for idx in idx_client_target[client][target]]\n",
    "        train_dataset_client[client].extend(train_dataset_client_new)"
   ]
  },
  {
   "cell_type": "code",
   "execution_count": 5,
   "metadata": {},
   "outputs": [],
   "source": [
    "initial_model = LeNet5(28, 28, 1, 10)\n",
    "\n",
    "client_model = []\n",
    "for client in all_client:\n",
    "    client_model.append(initial_model)\n",
    "\n",
    "model_edge_server = []\n",
    "for server in all_server:\n",
    "    model_edge_server.append(initial_model)"
   ]
  },
  {
   "cell_type": "code",
   "execution_count": 14,
   "metadata": {},
   "outputs": [
    {
     "name": "stdout",
     "output_type": "stream",
     "text": [
      "Loss Without Distillation\n"
     ]
    }
   ],
   "source": [
    "logits_server_public = []\n",
    "for server in all_server:\n",
    "    logits_server_public.append([])\n",
    "\n",
    "for epoch_server_commu in range(num_server_commu):\n",
    "    if epoch_server_commu == 0:\n",
    "        loss_function = LossWithoutDistillation()\n",
    "        print('Loss Without Distillation')\n",
    "    else:\n",
    "        loss_function = LossWithDistillation(alpha, beta)\n",
    "        print('Loss With Distillation')\n",
    "\n",
    "    for epoch_client_commu in range(num_client_commu):\n",
    "        for client in all_client:\n",
    "            client_model[client] = train_model(\n",
    "                model=client_model[client],\n",
    "                dataset=train_dataset_client[client],\n",
    "                criterion=loss_function,\n",
    "                device=device,\n",
    "                epochs=num_client_train)\n",
    "        for server in all_server:\n",
    "            server_client_model = [client_model[client]\n",
    "                                   for client in server_client[server]]\n",
    "            model_edge_server[server] = EdgeServer(client_model).average()\n",
    "            break\n",
    "        break\n",
    "    for server in all_server:\n",
    "        public_dataloader = DataLoader(public_dataset, 1)\n",
    "        the_model = deepcopy(model_edge_server[server]).eval().to(device)\n",
    "        for data, _ in public_dataloader:\n",
    "            logits_server_public_i = the_model(data.to(device))\n",
    "            logits_server_public[server].append(logits_server_public_i[0].tolist())\n",
    "        break\n",
    "    break\n",
    "\n",
    "    # edge_server_communicate()"
   ]
  },
  {
   "cell_type": "code",
   "execution_count": 13,
   "metadata": {},
   "outputs": [
    {
     "name": "stdout",
     "output_type": "stream",
     "text": [
      "torch.Size([1, 10])\n",
      "[-0.18094053864479065, -7.529165267944336, -4.371863842010498, -4.418663501739502, 2.785965919494629, -1.4690731763839722, -0.8050137758255005, -1.0119588375091553, -2.5097012519836426, 0.9319501519203186]\n"
     ]
    }
   ],
   "source": [
    "the_model = deepcopy(model_edge_server[server]).eval().to(device)\n",
    "# eval_model(the_model, test_dataset, device)\n",
    "test_dataloader = DataLoader(test_dataset, 1)\n",
    "for data, _ in test_dataloader:\n",
    "    output = the_model(data.to(device))\n",
    "    print(output.size())\n",
    "    print(output[0].tolist())\n",
    "    break"
   ]
  }
 ],
 "metadata": {
  "kernelspec": {
   "display_name": "federated_learning",
   "language": "python",
   "name": "python3"
  },
  "language_info": {
   "codemirror_mode": {
    "name": "ipython",
    "version": 3
   },
   "file_extension": ".py",
   "mimetype": "text/x-python",
   "name": "python",
   "nbconvert_exporter": "python",
   "pygments_lexer": "ipython3",
   "version": "3.11.5"
  }
 },
 "nbformat": 4,
 "nbformat_minor": 2
}
