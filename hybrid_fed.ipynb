{
 "cells": [
  {
   "cell_type": "code",
   "execution_count": 1,
   "metadata": {},
   "outputs": [
    {
     "name": "stdout",
     "output_type": "stream",
     "text": [
      "\u001b[H\u001b[2Jcuda\n"
     ]
    }
   ],
   "source": [
    "%reset -f\n",
    "%clear\n",
    "\n",
    "import torch\n",
    "import torchvision\n",
    "import numpy\n",
    "import copy\n",
    "import tqdm\n",
    "\n",
    "from utils.model_util import LeNet5\n",
    "from utils.data_util import *\n",
    "from utils.lib import *\n",
    "\n",
    "torch.backends.cudnn.enabled = True\n",
    "torch.backends.cudnn.benchmark = True\n",
    "\n",
    "if torch.cuda.is_available():\n",
    "    device = 'cuda'\n",
    "else:\n",
    "    device = 'cpu'\n",
    "print(device)"
   ]
  },
  {
   "cell_type": "code",
   "execution_count": 2,
   "metadata": {},
   "outputs": [],
   "source": [
    "train_dataset, test_dataset = get_dataset(dataset='mnist')\n",
    "train_dataset_splited = split_data(train_dataset)"
   ]
  },
  {
   "cell_type": "code",
   "execution_count": 3,
   "metadata": {},
   "outputs": [],
   "source": [
    "num_all_client = 6\n",
    "num_all_server = 2\n",
    "all_client = [i for i in range(num_all_client)]\n",
    "server_commu_round = 3\n",
    "client_commu_round = 3\n",
    "client_train_round = 3\n",
    "\n",
    "server_1_client = [0, 1, 2]\n",
    "server_2_client = [3, 4, 5]\n",
    "\n",
    "idx_client_target = []\n",
    "for client in all_client:\n",
    "    idx_client_target.append([])\n",
    "for target in train_dataset_splited.keys():\n",
    "    num_idx_dataset_target = len(train_dataset_splited[target])\n",
    "    idxs_dataset_target = [i for i in range(num_idx_dataset_target)]\n",
    "    idx_target_client = split_idx_evenly(\n",
    "        idxs_dataset_target, num_all_client)\n",
    "    for client in all_client:\n",
    "        idx_client_target[client].extend([idx_target_client[client]])"
   ]
  },
  {
   "cell_type": "code",
   "execution_count": 21,
   "metadata": {},
   "outputs": [
    {
     "name": "stdout",
     "output_type": "stream",
     "text": [
      "<class 'int'>\n"
     ]
    }
   ],
   "source": [
    "# for i in all_client:\n",
    "#     for j in range(10):\n",
    "#         print(len(dataset_client[i][j]), type(dataset_client[i][j][0]))\n",
    "\n",
    "print(type(train_dataset_splited[0][0][1]))"
   ]
  }
 ],
 "metadata": {
  "kernelspec": {
   "display_name": "federated_learning",
   "language": "python",
   "name": "python3"
  },
  "language_info": {
   "codemirror_mode": {
    "name": "ipython",
    "version": 3
   },
   "file_extension": ".py",
   "mimetype": "text/x-python",
   "name": "python",
   "nbconvert_exporter": "python",
   "pygments_lexer": "ipython3",
   "version": "3.11.5"
  }
 },
 "nbformat": 4,
 "nbformat_minor": 2
}
