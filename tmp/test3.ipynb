{
 "cells": [
  {
   "cell_type": "code",
   "execution_count": 11,
   "metadata": {},
   "outputs": [
    {
     "name": "stdout",
     "output_type": "stream",
     "text": [
      "[[2], [2]]\n",
      "[1, [2]]\n",
      "[[1, [2]], [1, [2]]]\n",
      "[['a', [2]], ['a', [2]]]\n"
     ]
    }
   ],
   "source": [
    "a = [[2]]\n",
    "b = a * 2\n",
    "print(b)\n",
    "\n",
    "b[0] = 1\n",
    "print(b)\n",
    "\n",
    "c = [b] * 2\n",
    "print(c)\n",
    "\n",
    "c[0][0] = 'a'\n",
    "print(c)"
   ]
  },
  {
   "cell_type": "code",
   "execution_count": 7,
   "metadata": {},
   "outputs": [
    {
     "name": "stdout",
     "output_type": "stream",
     "text": [
      "[0, 1, 3, 4, 5, 6]\n"
     ]
    }
   ],
   "source": [
    "a = [[0, 1], [3, 4], [5, 6]]\n",
    "\n",
    "b = []\n",
    "for i in range(len(a)):\n",
    "    for j in range(len(a[i])):\n",
    "        b.append(a[i][j])\n",
    "\n",
    "print(b)"
   ]
  },
  {
   "cell_type": "code",
   "execution_count": 1,
   "metadata": {},
   "outputs": [
    {
     "name": "stdout",
     "output_type": "stream",
     "text": [
      "3 100 2\n"
     ]
    }
   ],
   "source": [
    "from utils.data_util import *\n",
    "\n",
    "_, dataset, _, _, _ = get_dataset()\n",
    "splited_dataset = SplitData(dataset)\n",
    "data = splited_dataset.part_target(3, 100, [[0, 1], [2, 3], [4, 5]])\n",
    "# data = splited_dataset.client_non_iid(2, 3, 100)\n",
    "\n",
    "print(len(data), len(data[0]), len(data[0][0]))"
   ]
  }
 ],
 "metadata": {
  "kernelspec": {
   "display_name": "fl",
   "language": "python",
   "name": "python3"
  },
  "language_info": {
   "codemirror_mode": {
    "name": "ipython",
    "version": 3
   },
   "file_extension": ".py",
   "mimetype": "text/x-python",
   "name": "python",
   "nbconvert_exporter": "python",
   "pygments_lexer": "ipython3",
   "version": "3.11.5"
  }
 },
 "nbformat": 4,
 "nbformat_minor": 2
}
