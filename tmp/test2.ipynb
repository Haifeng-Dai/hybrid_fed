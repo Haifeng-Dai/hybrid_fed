{
 "cells": [
  {
   "cell_type": "code",
   "execution_count": 1,
   "metadata": {},
   "outputs": [
    {
     "name": "stdout",
     "output_type": "stream",
     "text": [
      "cuda\n"
     ]
    }
   ],
   "source": [
    "import torch\n",
    "import sys\n",
    "import torch.nn.functional as f\n",
    "\n",
    "sys.path.append('..')\n",
    "\n",
    "from torch.utils.data import DataLoader\n",
    "from utils.data_util import *\n",
    "from utils.model_util import *\n",
    "from utils.train_util import *\n",
    "\n",
    "torch.set_printoptions(precision=2,\n",
    "                       threshold=1000,\n",
    "                       edgeitems=5,\n",
    "                       linewidth=1000,\n",
    "                       sci_mode=False)\n",
    "# 是否使用显卡加速\n",
    "if torch.cuda.is_available():\n",
    "    device = 'cuda'\n",
    "    if torch.backends.cudnn.is_available():\n",
    "        torch.backends.cudnn.enabled = True\n",
    "        torch.backends.cudnn.benchmark = True\n",
    "elif torch.backends.mps.is_available():\n",
    "    device = 'mps'\n",
    "else:\n",
    "    device = 'cpu'\n",
    "print(device)"
   ]
  },
  {
   "cell_type": "code",
   "execution_count": 2,
   "metadata": {},
   "outputs": [
    {
     "name": "stdout",
     "output_type": "stream",
     "text": [
      "[8, 0, 1, 2, 7]\n"
     ]
    }
   ],
   "source": [
    "train_dataset, test_dataset, c, h, w = get_dataset()\n",
    "\n",
    "batch_size = 32\n",
    "DataSplit = SplitData(train_dataset)\n",
    "[teacher_dataset1, teacher_dataset2, teacher_dataset3, student_dataset, distill_dataset], client_main_target = DataSplit.all_non_iid(\n",
    "    num_client=5,\n",
    "    num_client_data=1000,\n",
    "    proportion=0.6)\n",
    "print(client_main_target)\n",
    "num_target = DataSplit.num_target\n",
    "teacher_dataloader1 = DataLoader(\n",
    "    dataset=teacher_dataset1,\n",
    "    batch_size=batch_size,\n",
    "    shuffle=True)\n",
    "teacher_dataloader2 = DataLoader(\n",
    "    dataset=teacher_dataset2,\n",
    "    batch_size=batch_size,\n",
    "    shuffle=True)\n",
    "teacher_dataloader3 = DataLoader(\n",
    "    dataset=teacher_dataset3,\n",
    "    batch_size=batch_size,\n",
    "    shuffle=True)\n",
    "student_dataloader = DataLoader(\n",
    "    dataset=student_dataset,\n",
    "    batch_size=batch_size,\n",
    "    shuffle=True)\n",
    "distill_dataloader = DataLoader(\n",
    "    dataset=distill_dataset,\n",
    "    batch_size=batch_size,\n",
    "    shuffle=True)\n",
    "test_dataloader = DataLoader(\n",
    "    dataset=test_dataset,\n",
    "    batch_size=200,\n",
    "    shuffle=True)\n",
    "\n",
    "epochs_teacher = 10\n",
    "epochs_teacher_p = 30"
   ]
  },
  {
   "cell_type": "code",
   "execution_count": 3,
   "metadata": {},
   "outputs": [
    {
     "name": "stdout",
     "output_type": "stream",
     "text": [
      "[tensor(0.10), tensor(0.10), tensor(0.10), tensor(0.10), tensor(0.10), tensor(0.10), tensor(0.10), tensor(0.10), tensor(0.10), tensor(0.10)]\n",
      "tensor(0.10)\n",
      "[tensor(0.10), tensor(0.10), tensor(0.10), tensor(0.17), tensor(0.36), tensor(0.54), tensor(0.68), tensor(0.74), tensor(0.74), tensor(0.79), tensor(0.75), tensor(0.81), tensor(0.83), tensor(0.84), tensor(0.84), tensor(0.82), tensor(0.81), tensor(0.86), tensor(0.86), tensor(0.80), tensor(0.86), tensor(0.84), tensor(0.84), tensor(0.84), tensor(0.85), tensor(0.87), tensor(0.87), tensor(0.86), tensor(0.85), tensor(0.87)]\n",
      "tensor(0.87)\n"
     ]
    }
   ],
   "source": [
    "initial_teacher_model1 = CNN(h, w, c, num_target)\n",
    "acc_teacher = []\n",
    "for epoch in range(epochs_teacher):\n",
    "    teacher_model1 = train_model(\n",
    "        model=initial_teacher_model1,\n",
    "        dataloader=teacher_dataloader1,\n",
    "        device=device)\n",
    "    acc_teacher.append(eval_model(\n",
    "        model=teacher_model1,\n",
    "        dataloader=test_dataloader,\n",
    "        device=device))\n",
    "print(acc_teacher)\n",
    "print(acc_teacher[-1])\n",
    "\n",
    "acc_teacher = []\n",
    "for epoch in range(epochs_teacher_p):\n",
    "    teacher_model1 = train_model(\n",
    "        model=teacher_model1,\n",
    "        dataloader=distill_dataloader,\n",
    "        device=device)\n",
    "    acc_teacher.append(eval_model(\n",
    "        model=teacher_model1,\n",
    "        dataloader=test_dataloader,\n",
    "        device=device))\n",
    "print(acc_teacher)\n",
    "print(acc_teacher[-1])"
   ]
  },
  {
   "cell_type": "code",
   "execution_count": 4,
   "metadata": {},
   "outputs": [
    {
     "name": "stdout",
     "output_type": "stream",
     "text": [
      "[tensor(0.10), tensor(0.10), tensor(0.10), tensor(0.10), tensor(0.10), tensor(0.10), tensor(0.10), tensor(0.10), tensor(0.10), tensor(0.10)]\n",
      "tensor(0.10)\n",
      "[tensor(0.10), tensor(0.10), tensor(0.10), tensor(0.16), tensor(0.39), tensor(0.63), tensor(0.65), tensor(0.75), tensor(0.76), tensor(0.72), tensor(0.80), tensor(0.82), tensor(0.81), tensor(0.82), tensor(0.83), tensor(0.84), tensor(0.84), tensor(0.84), tensor(0.85), tensor(0.85), tensor(0.85), tensor(0.85), tensor(0.85), tensor(0.84), tensor(0.85), tensor(0.87), tensor(0.87), tensor(0.86), tensor(0.87), tensor(0.87)]\n",
      "tensor(0.87)\n"
     ]
    }
   ],
   "source": [
    "initial_teacher_model2 = CNN(h, w, c, num_target)\n",
    "acc_teacher = []\n",
    "for epoch in range(epochs_teacher):\n",
    "    teacher_model2 = train_model(\n",
    "        model=initial_teacher_model2,\n",
    "        dataloader=teacher_dataloader2,\n",
    "        device=device)\n",
    "    acc_teacher.append(eval_model(\n",
    "        model=teacher_model2,\n",
    "        dataloader=test_dataloader,\n",
    "        device=device))\n",
    "print(acc_teacher)\n",
    "print(acc_teacher[-1])\n",
    "\n",
    "acc_teacher = []\n",
    "for epoch in range(epochs_teacher_p):\n",
    "    teacher_model2 = train_model(\n",
    "        model=teacher_model2,\n",
    "        dataloader=distill_dataloader,\n",
    "        device=device)\n",
    "    acc_teacher.append(eval_model(\n",
    "        model=teacher_model2,\n",
    "        dataloader=test_dataloader,\n",
    "        device=device))\n",
    "print(acc_teacher)\n",
    "print(acc_teacher[-1])"
   ]
  },
  {
   "cell_type": "code",
   "execution_count": 5,
   "metadata": {},
   "outputs": [
    {
     "name": "stdout",
     "output_type": "stream",
     "text": [
      "[tensor(0.11), tensor(0.11), tensor(0.11), tensor(0.11), tensor(0.11), tensor(0.11), tensor(0.11), tensor(0.11), tensor(0.11), tensor(0.11)]\n",
      "tensor(0.11)\n",
      "[tensor(0.10), tensor(0.10), tensor(0.18), tensor(0.50), tensor(0.61), tensor(0.65), tensor(0.76), tensor(0.76), tensor(0.79), tensor(0.78), tensor(0.84), tensor(0.84), tensor(0.82), tensor(0.83), tensor(0.85), tensor(0.81), tensor(0.82), tensor(0.85), tensor(0.84), tensor(0.85), tensor(0.84), tensor(0.87), tensor(0.85), tensor(0.86), tensor(0.85), tensor(0.85), tensor(0.87), tensor(0.84), tensor(0.85), tensor(0.85)]\n",
      "tensor(0.85)\n"
     ]
    }
   ],
   "source": [
    "initial_teacher_model3 = CNN(h, w, c, num_target)\n",
    "acc_teacher = []\n",
    "for epoch in range(epochs_teacher):\n",
    "    teacher_model3 = train_model(\n",
    "        model=initial_teacher_model3,\n",
    "        dataloader=teacher_dataloader3,\n",
    "        device=device)\n",
    "    acc_teacher.append(eval_model(\n",
    "        model=teacher_model3,\n",
    "        dataloader=test_dataloader,\n",
    "        device=device))\n",
    "print(acc_teacher)\n",
    "print(acc_teacher[-1])\n",
    "\n",
    "acc_teacher = []\n",
    "for epoch in range(epochs_teacher_p):\n",
    "    teacher_model3 = train_model(\n",
    "        model=teacher_model3,\n",
    "        dataloader=distill_dataloader,\n",
    "        device=device)\n",
    "    acc_teacher.append(eval_model(\n",
    "        model=teacher_model3,\n",
    "        dataloader=test_dataloader,\n",
    "        device=device))\n",
    "print(acc_teacher)\n",
    "print(acc_teacher[-1])"
   ]
  },
  {
   "cell_type": "code",
   "execution_count": 6,
   "metadata": {},
   "outputs": [
    {
     "name": "stdout",
     "output_type": "stream",
     "text": [
      "[tensor(0.10), tensor(0.10), tensor(0.10), tensor(0.10), tensor(0.10), tensor(0.10), tensor(0.10), tensor(0.10), tensor(0.10), tensor(0.10), tensor(0.10), tensor(0.10), tensor(0.10), tensor(0.10), tensor(0.10), tensor(0.10), tensor(0.10), tensor(0.10), tensor(0.10), tensor(0.10), tensor(0.10), tensor(0.10), tensor(0.10), tensor(0.10), tensor(0.10), tensor(0.10), tensor(0.10), tensor(0.10), tensor(0.10), tensor(0.10), tensor(0.10), tensor(0.10), tensor(0.10), tensor(0.10), tensor(0.10), tensor(0.10), tensor(0.10), tensor(0.10), tensor(0.10), tensor(0.10)]\n",
      "tensor(0.10)\n"
     ]
    }
   ],
   "source": [
    "initial_student_model = CNN(h, w, c, num_target)\n",
    "epochs_student = 40\n",
    "acc_student = []\n",
    "for epoch in range(epochs_student):\n",
    "    student_model = train_model(\n",
    "        model=initial_student_model,\n",
    "        dataloader=student_dataloader,\n",
    "        device=device)\n",
    "    acc_student.append(eval_model(\n",
    "        model=student_model,\n",
    "        dataloader=test_dataloader,\n",
    "        device=device))\n",
    "print(acc_student)\n",
    "print(acc_student[-1])"
   ]
  },
  {
   "cell_type": "code",
   "execution_count": 7,
   "metadata": {},
   "outputs": [
    {
     "name": "stdout",
     "output_type": "stream",
     "text": [
      "[tensor(0.10), tensor(0.10), tensor(0.10), tensor(0.10), tensor(0.10), tensor(0.10), tensor(0.10), tensor(0.10), tensor(0.10), tensor(0.10)]\n",
      "tensor(0.10)\n",
      "[tensor(0.10), tensor(0.10), tensor(0.21), tensor(0.54), tensor(0.66), tensor(0.70), tensor(0.75), tensor(0.79), tensor(0.81), tensor(0.82), tensor(0.82), tensor(0.85), tensor(0.83), tensor(0.83), tensor(0.84), tensor(0.86), tensor(0.85), tensor(0.86), tensor(0.85), tensor(0.85), tensor(0.87), tensor(0.85), tensor(0.86), tensor(0.84), tensor(0.86), tensor(0.86), tensor(0.86), tensor(0.86), tensor(0.86), tensor(0.87)]\n",
      "tensor(0.87)\n"
     ]
    }
   ],
   "source": [
    "# epochs_student = 20\n",
    "acc_student = []\n",
    "for epoch in range(epochs_teacher):\n",
    "    student_model = train_model(\n",
    "        model=initial_student_model,\n",
    "        dataloader=student_dataloader,\n",
    "        device=device)\n",
    "    acc_student.append(eval_model(\n",
    "        model=student_model,\n",
    "        dataloader=test_dataloader,\n",
    "        device=device))\n",
    "print(acc_student)\n",
    "print(acc_student[-1])\n",
    "\n",
    "acc_student = []\n",
    "for epoch in range(epochs_teacher_p):\n",
    "    student_model = train_model(\n",
    "        model=student_model,\n",
    "        dataloader=distill_dataloader,\n",
    "        device=device)\n",
    "    acc_student.append(eval_model(\n",
    "        model=student_model,\n",
    "        dataloader=test_dataloader,\n",
    "        device=device))\n",
    "print(acc_student)\n",
    "print(acc_student[-1])"
   ]
  },
  {
   "cell_type": "code",
   "execution_count": 8,
   "metadata": {},
   "outputs": [
    {
     "name": "stdout",
     "output_type": "stream",
     "text": [
      "[tensor(0.10), tensor(0.10), tensor(0.10), tensor(0.10), tensor(0.10), tensor(0.10), tensor(0.10), tensor(0.10), tensor(0.10), tensor(0.10), tensor(0.10), tensor(0.10), tensor(0.10), tensor(0.10), tensor(0.10), tensor(0.10), tensor(0.10), tensor(0.10), tensor(0.10), tensor(0.10), tensor(0.10), tensor(0.10), tensor(0.10), tensor(0.10), tensor(0.10), tensor(0.10), tensor(0.10), tensor(0.10), tensor(0.10), tensor(0.10)]\n",
      "tensor(0.10)\n"
     ]
    }
   ],
   "source": [
    "epochs_distill = 30\n",
    "acc_student = []\n",
    "for epoch in range(epochs_distill):\n",
    "    student_model = train_model(\n",
    "        model=initial_student_model,\n",
    "        dataloader=student_dataloader,\n",
    "        device=device)\n",
    "    acc_student.append(eval_model(\n",
    "        model=student_model,\n",
    "        dataloader=test_dataloader,\n",
    "        device=device))\n",
    "print(acc_student)\n",
    "print(acc_student[-1])"
   ]
  },
  {
   "cell_type": "code",
   "execution_count": 9,
   "metadata": {},
   "outputs": [
    {
     "name": "stdout",
     "output_type": "stream",
     "text": [
      "[tensor(0.10), tensor(0.33), tensor(0.56), tensor(0.68), tensor(0.73), tensor(0.74), tensor(0.75), tensor(0.80), tensor(0.79), tensor(0.80), tensor(0.82), tensor(0.83), tensor(0.83), tensor(0.84), tensor(0.85), tensor(0.85), tensor(0.85), tensor(0.85), tensor(0.87), tensor(0.87), tensor(0.86), tensor(0.87), tensor(0.87), tensor(0.87), tensor(0.87), tensor(0.86), tensor(0.88), tensor(0.87), tensor(0.88), tensor(0.87)]\n",
      "tensor(0.87)\n"
     ]
    }
   ],
   "source": [
    "teacher_model1.eval()\n",
    "teacher_model2.eval()\n",
    "teacher_model3.eval()\n",
    "acc_student = []\n",
    "\n",
    "for epoch in range(epochs_distill):\n",
    "    student_model = train_model_disti_weighted(\n",
    "        model=student_model,\n",
    "        neighbor_server_model=[teacher_model1, teacher_model2, teacher_model3],\n",
    "        weight=torch.tensor([1/3, 1/3, 1/3]),\n",
    "        dataloader=student_dataloader,\n",
    "        alpha=0.1,\n",
    "        T=2,\n",
    "        device=device)\n",
    "    acc_student.append(eval_model(\n",
    "        model=student_model,\n",
    "        dataloader=test_dataloader,\n",
    "        device=device))\n",
    "print(acc_student)\n",
    "print(acc_student[-1])"
   ]
  }
 ],
 "metadata": {
  "kernelspec": {
   "display_name": "fl",
   "language": "python",
   "name": "python3"
  },
  "language_info": {
   "codemirror_mode": {
    "name": "ipython",
    "version": 3
   },
   "file_extension": ".py",
   "mimetype": "text/x-python",
   "name": "python",
   "nbconvert_exporter": "python",
   "pygments_lexer": "ipython3",
   "version": "3.11.5"
  }
 },
 "nbformat": 4,
 "nbformat_minor": 2
}
