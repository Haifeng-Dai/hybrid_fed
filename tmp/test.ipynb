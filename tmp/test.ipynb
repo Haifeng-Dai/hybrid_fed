{
 "cells": [
  {
   "cell_type": "code",
   "execution_count": null,
   "metadata": {},
   "outputs": [],
   "source": [
    "import torchvision\n",
    "import torch\n",
    "import sys\n",
    "\n",
    "sys.path.append(\"..\")\n",
    "\n",
    "from torch.utils.data import DataLoader, Dataset\n",
    "from utils.model_util import LeNet5, CNN, MLP\n",
    "from utils.train_util import *\n",
    "\n",
    "model = LeNet5(28, 28, 1, 10).cuda()\n",
    "train_dataset_loader = DataLoader(\n",
    "    dataset=torchvision.datasets.MNIST(\n",
    "        root='../data/raw-data/',\n",
    "        train=True,\n",
    "        transform=torchvision.transforms.ToTensor()),\n",
    "    batch_size=600,\n",
    "    shuffle=False)\n",
    "test_dataset_loader = DataLoader(\n",
    "    dataset=torchvision.datasets.mnist.MNIST(\n",
    "        root='../data/raw-data/',\n",
    "        transform=torchvision.transforms.ToTensor()),\n",
    "    batch_size=32,\n",
    "    shuffle=False)\n",
    "test_dataset = torchvision.datasets.mnist.MNIST(\n",
    "    root='../data/raw-data/',\n",
    "    transform=torchvision.transforms.ToTensor())\n",
    "\n",
    "opti = torch.optim.Adam(model.parameters())\n",
    "criterion = torch.nn.CrossEntropyLoss(reduction='sum')\n",
    "for data, target in train_dataset_loader:\n",
    "    opti.zero_grad()\n",
    "    output = model(data.cuda())\n",
    "    loss = criterion(output, target.cuda())\n",
    "    loss.backward()\n",
    "    print(loss.item())\n",
    "    opti.step()\n",
    "\n",
    "print(loss, type(loss))\n",
    "print(loss.item(), type(loss.item()))\n",
    "\n",
    "model = LeNet5(28, 28, 1, 10).cuda()\n",
    "train_dataset_loader = DataLoader(\n",
    "    dataset=torchvision.datasets.MNIST(\n",
    "        root='../data/raw-data/',\n",
    "        train=True,\n",
    "        transform=torchvision.transforms.ToTensor()),\n",
    "    batch_size=600,\n",
    "    shuffle=False)\n",
    "test_dataset_loader = DataLoader(\n",
    "    dataset=torchvision.datasets.mnist.MNIST(\n",
    "        root='../data/raw-data/',\n",
    "        transform=torchvision.transforms.ToTensor()),\n",
    "    batch_size=32,\n",
    "    shuffle=False)\n",
    "\n",
    "opti = torch.optim.Adam(model.parameters())\n",
    "criterion = torch.nn.CrossEntropyLoss(reduction='sum')\n",
    "loss_sum = 0\n",
    "for data, target in train_dataset_loader:\n",
    "    opti.zero_grad()\n",
    "    output = model(data.cuda())\n",
    "    loss = criterion(output, target.cuda())\n",
    "    # print(f'loss_sum = {loss_sum:<20}', end=' | ')\n",
    "    loss.backward()\n",
    "    loss_sum += loss.item()\n",
    "    # print(f'loss = {loss.item():<20}')\n",
    "    opti.step()\n",
    "\n",
    "def eval_model(model, dataset, device):\n",
    "    '''\n",
    "    评估模型\n",
    "    '''\n",
    "    model_copy = deepcopy(model).eval()\n",
    "    correct = 0\n",
    "    data_loader = DataLoader(dataset, batch_size=32)\n",
    "    for images, targets in data_loader:\n",
    "        outputs = model_copy(images.to(device))\n",
    "        _, predicted = torch.max(outputs, 1)\n",
    "        correct += torch.eq(predicted, targets.to(device)).sum()\n",
    "    # print(f'Test Accuracy: {100 * correct / total:.2f}%')\n",
    "    accuracy = correct / len(dataset)\n",
    "    return accuracy\n",
    "\n",
    "eval_model(model, test_dataset, 'cuda')\n",
    "\n",
    "model_copy = deepcopy(model).eval()\n",
    "model_copy.eval()\n",
    "model_copy.cuda()\n",
    "correct = 0\n",
    "total = 0\n",
    "data_loader = test_dataset_loader\n",
    "for images, targets in data_loader:\n",
    "    outputs = model_copy(images.cuda())\n",
    "    _, predicted = torch.max(outputs.data, 1)\n",
    "    total += targets.size(0)\n",
    "    correct += (predicted == targets.cuda()).sum().item()\n",
    "    break\n",
    "print('Test Accuracy: {:.2f}%'.format(100 * correct / total))"
   ]
  },
  {
   "cell_type": "code",
   "execution_count": null,
   "metadata": {},
   "outputs": [],
   "source": [
    "for i in range(8, 13):\n",
    "    print(f'{i:<10}|')\n",
    "    print(f'{i:.2f}|')"
   ]
  },
  {
   "cell_type": "code",
   "execution_count": null,
   "metadata": {},
   "outputs": [],
   "source": [
    "def get_list(len_list, term=[]):\n",
    "    '''\n",
    "    返回一个全是空列表的列表\n",
    "    '''\n",
    "    list_return = []\n",
    "    for _ in range(len_list):\n",
    "        list_return.append(term)\n",
    "    return list_return\n",
    "\n",
    "num_all_client = 6\n",
    "num_all_server = 2\n",
    "\n",
    "server_model = get_list(num_all_server)\n",
    "server_accuracy = get_list(num_all_server)\n",
    "client_accuracy = get_list(num_all_client)\n",
    "server_client_model = get_list(num_all_server)\n",
    "server_model_distillation_accuracy = get_list(num_all_server)\n",
    "\n",
    "print(client_accuracy)"
   ]
  },
  {
   "cell_type": "code",
   "execution_count": null,
   "metadata": {},
   "outputs": [],
   "source": [
    "import torch\n",
    "import sys\n",
    "\n",
    "sys.path.append('..')\n",
    "\n",
    "from utils.data_util import *\n",
    "from utils.train_util import *\n",
    "from utils.model_util import *\n",
    "from utils.lib_util import *\n",
    "\n",
    "if torch.cuda.is_available():\n",
    "    device = 'cuda'\n",
    "else:\n",
    "    device = 'cpu'\n",
    "print(device)\n",
    "\n",
    "save_path = '../data/dealed-data/'\n",
    "train_dataset_o, test_dataset_o = get_dataset(dataset='cifar10')\n",
    "train_dataset_splited = split_data(train_dataset_o)\n",
    "idx_client_target = train_data_split(train_dataset_splited, range(3))\n",
    "all_target = train_dataset_splited.keys()\n",
    "\n",
    "train_dataset_client = list_same_term(3)\n",
    "for client in range(3):\n",
    "    for target in all_target:\n",
    "        train_dataset_client_new = [train_dataset_splited[target][idx]\n",
    "                                    for idx in idx_client_target[client][target]]\n",
    "        train_dataset_client[client].extend(train_dataset_client_new)\n",
    "\n",
    "public_idx, test_idx = split_idx_proportion(\n",
    "    number_list(len(test_dataset_o)), [0.2, 0.8])\n",
    "public_dataset = DealDataset(test_dataset_o, public_idx)\n",
    "test_dataset = DealDataset(test_dataset_o, test_idx)\n",
    "\n",
    "model = CNN(32, 32, 3, 10)\n",
    "trained_model1, _ = train_model(\n",
    "    model=model,\n",
    "    dataset=train_dataset_client[0],\n",
    "    device=device,\n",
    "    epochs=10)\n",
    "print('mode 1: ', eval_model(trained_model1, test_dataset, device))\n",
    "trained_model2, _ = train_model(\n",
    "    model=model,\n",
    "    dataset=train_dataset_client[1],\n",
    "    device=device,\n",
    "    epochs=10)\n",
    "print('mode 2: ', eval_model(trained_model2, test_dataset, device))\n",
    "\n",
    "trained_model3, _ = train_model(\n",
    "    model=model,\n",
    "    dataset=train_dataset_client[2],\n",
    "    device=device,\n",
    "    epochs=10)\n",
    "print('mode 3 before distill: ', eval_model(trained_model3, test_dataset, device))\n",
    "\n",
    "trained_model4, _ = train_model(\n",
    "    model=trained_model3,\n",
    "    dataset=public_dataset,\n",
    "    device=device,\n",
    "    epochs=10)\n",
    "print('mode 3 after distill: ', eval_model(trained_model4, test_dataset, device))\n",
    "\n",
    "trained_model5, _ = train_model_disti(\n",
    "    model=trained_model3,\n",
    "    neighbor_server_model=[trained_model1, trained_model2],\n",
    "    weight=torch.tensor([0.5, 0.5]),\n",
    "    dataset=public_dataset,\n",
    "    alpha=0.5,\n",
    "    device=device,\n",
    "    epochs=10)\n",
    "print('mode 3 train only in public dataset: ', eval_model(trained_model5, test_dataset, device))"
   ]
  },
  {
   "cell_type": "code",
   "execution_count": null,
   "metadata": {},
   "outputs": [],
   "source": [
    "import torch\n",
    "import sys\n",
    "\n",
    "sys.path.append('..')\n",
    "\n",
    "from utils.data_util import *\n",
    "from utils.train_util import *\n",
    "from utils.model_util import *\n",
    "from utils.lib_util import *\n",
    "\n",
    "if torch.cuda.is_available():\n",
    "    device = 'cuda'\n",
    "else:\n",
    "    device = 'cpu'\n",
    "print(device)\n",
    "\n",
    "save_path = '../data/dealed-data/'\n",
    "train_dataset_o, test_dataset_o = get_dataset(dataset='cifar100')\n",
    "print(type(train_dataset_o.targets), len(train_dataset_o.targets))"
   ]
  },
  {
   "cell_type": "code",
   "execution_count": null,
   "metadata": {},
   "outputs": [],
   "source": [
    "import torch\n",
    "import sys\n",
    "\n",
    "sys.path.append('..')\n",
    "\n",
    "from utils.data_util import *\n",
    "from utils.train_util import *\n",
    "from utils.model_util import *\n",
    "from utils.lib_util import *\n",
    "\n",
    "if torch.cuda.is_available():\n",
    "    device = 'cuda'\n",
    "else:\n",
    "    device = 'cpu'\n",
    "print(device)\n",
    "\n",
    "save_path = '../data/dealed-data/'\n",
    "train_dataset_o, test_dataset_o = get_dataset()\n",
    "print(type(train_dataset_o.targets))"
   ]
  },
  {
   "cell_type": "code",
   "execution_count": null,
   "metadata": {},
   "outputs": [],
   "source": [
    "import torch\n",
    "\n",
    "a = torch.rand(3, 4)\n",
    "b = a.to('cuda')\n",
    "\n",
    "print(b)\n",
    "print(b[0])"
   ]
  },
  {
   "cell_type": "code",
   "execution_count": null,
   "metadata": {},
   "outputs": [],
   "source": [
    "import random, copy\n",
    "\n",
    "a = [i for i in range(10)]\n",
    "b = [i+100 for i in range(10)]\n",
    "c = {'a': a, 'b': b}\n",
    "\n",
    "d = copy.deepcopy(c['a'])\n",
    "random.shuffle(d)\n",
    "\n",
    "print(a)\n",
    "print(b)\n",
    "print(c)\n",
    "print(d)"
   ]
  },
  {
   "cell_type": "code",
   "execution_count": null,
   "metadata": {},
   "outputs": [],
   "source": [
    "a = [i for i in range(10)]\n",
    "b = a[1:3]\n",
    "c = a[1:]\n",
    "print(a, b, c)\n",
    "a.append(['k'])\n",
    "print(a)\n",
    "a.extend(['k'])\n",
    "print(a)"
   ]
  },
  {
   "cell_type": "code",
   "execution_count": null,
   "metadata": {},
   "outputs": [],
   "source": [
    "import numpy\n",
    "\n",
    "a = [i for i in range(10)]\n",
    "b = numpy.random.choice(a, 3, replace=True).tolist()\n",
    "print(b, type(b))\n",
    "\n",
    "for i, c in enumerate(b):\n",
    "    print(i)\n",
    "    print(c, type(c))"
   ]
  },
  {
   "cell_type": "code",
   "execution_count": null,
   "metadata": {},
   "outputs": [],
   "source": [
    "import sys\n",
    "\n",
    "sys.path.append('./utils/')\n",
    "\n",
    "from utils.data_util import *\n",
    "\n",
    "_, data, _, _, _ = get_dataset()\n",
    "DataSplit = SplitData(dataset=data)\n",
    "# splited_data = DataSplit.split_data()\n",
    "client_data = DataSplit.part_target(2, 3, [[0, 1], [2, 3], [4, 5]])"
   ]
  },
  {
   "cell_type": "code",
   "execution_count": null,
   "metadata": {},
   "outputs": [],
   "source": [
    "for i, (data, target) in enumerate(client_data[0]):\n",
    "    for j, (data_, target_) in enumerate(client_data[1]):\n",
    "        b = 0\n",
    "        if target_ == target:\n",
    "            a = torch.eq(data_, data)\n",
    "            for i in a[0]:\n",
    "                if False in i:\n",
    "                    b += 1\n",
    "            if b:\n",
    "                continue\n",
    "            else:\n",
    "                print('same')"
   ]
  },
  {
   "cell_type": "code",
   "execution_count": null,
   "metadata": {},
   "outputs": [],
   "source": [
    "import torch, torchvision\n",
    "\n",
    "from utils.model_util import LeNet5\n",
    "from utils.data_util import *\n",
    "from utils.train_util import *\n",
    "\n",
    "device='cuda'\n",
    "\n",
    "train_dataset, test_dataset, c, h, w = get_dataset()\n",
    "num_target = len(set(test_dataset.targets.tolist()))\n",
    "\n",
    "model1 = LeNet5(h, w, c, num_target)\n",
    "model2 = LeNet5(h, w, c, num_target)\n",
    "\n",
    "DataSplited = SplitData(train_dataset)\n",
    "splited_dataset = DataSplited.all_iid(5, 1000)\n",
    "model1_trained = train_model(\n",
    "    model=model1,\n",
    "    dataset=splited_dataset[0],\n",
    "    device=device)\n",
    "model2_disti = train_model_disti(\n",
    "    model=model2,\n",
    "    dataset=splited_dataset[1],\n",
    "    neighbor_server_model=[model1],\n",
    "    weight=torch.tensor([1]),\n",
    "    alpha=0.5,\n",
    "    device=device)\n",
    "\n",
    "eval_model1 = eval_model(\n",
    "    model=model1,\n",
    "    dataset=test_dataset,\n",
    "    device=device)\n",
    "print(eval_model1)\n",
    "eval_model2 = eval_model(\n",
    "    model=model2,\n",
    "    dataset=test_dataset,\n",
    "    device=device)\n",
    "print(eval_model2)"
   ]
  },
  {
   "cell_type": "code",
   "execution_count": null,
   "metadata": {},
   "outputs": [],
   "source": [
    "import torch\n",
    "\n",
    "if torch.cuda.is_available():\n",
    "    device = 'cuda'\n",
    "elif torch.mps:\n",
    "    print(torch.mps)\n",
    "else:\n",
    "    device = 'cpu'\n",
    "print(device)"
   ]
  },
  {
   "cell_type": "code",
   "execution_count": null,
   "metadata": {},
   "outputs": [],
   "source": [
    "import torch\n",
    "\n",
    "print(torch.mps)\n",
    "mps_device = torch.device(\"mps\")\n",
    "print(mps_device, type(mps_device))"
   ]
  },
  {
   "cell_type": "code",
   "execution_count": null,
   "metadata": {},
   "outputs": [],
   "source": [
    "import torch\n",
    "\n",
    "if torch.backends.cuda.is_built():\n",
    "    print('cuda')"
   ]
  },
  {
   "cell_type": "code",
   "execution_count": null,
   "metadata": {},
   "outputs": [],
   "source": [
    "import torch\n",
    "\n",
    "a = torch.rand(3, 4)\n",
    "print(a)\n",
    "print(a.data)"
   ]
  },
  {
   "cell_type": "code",
   "execution_count": null,
   "metadata": {},
   "outputs": [],
   "source": [
    "import torch\n",
    "import matplotlib.pyplot as plt\n",
    "\n",
    "x = [i for i in range(10)]\n",
    "y = torch.rand(4, 10)\n",
    "line_list = []\n",
    "for i in range(4):\n",
    "    line_list.append(plt.plot(x, y[i, :]))\n",
    "\n",
    "plt.show()"
   ]
  },
  {
   "cell_type": "code",
   "execution_count": null,
   "metadata": {},
   "outputs": [],
   "source": [
    "import sys\n",
    "import torch\n",
    "import torchvision\n",
    "\n",
    "sys.path.append('..')\n",
    "from utils.model_util import LeNet5\n",
    "from torch.utils.data import Dataset, DataLoader\n",
    "from utils.data_util import get_dataset\n",
    "from utils.train_util import train_model, eval_model\n",
    "\n",
    "\n",
    "train_dataset = torchvision.datasets.MNIST(\n",
    "            root='../data/raw-data',\n",
    "            train=True,\n",
    "            transform=torchvision.transforms.ToTensor(),\n",
    "            download=True)\n",
    "\n",
    "model = LeNet5(28, 28, 1, 10)\n",
    "train_model(model=model, dataset=train_dataset, device='cuda')"
   ]
  },
  {
   "cell_type": "code",
   "execution_count": null,
   "metadata": {},
   "outputs": [],
   "source": [
    "a = 1\n",
    "b = [a, a, a, a]\n",
    "print(b)\n",
    "\n",
    "b[0] = 2\n",
    "print(b)"
   ]
  },
  {
   "cell_type": "code",
   "execution_count": null,
   "metadata": {},
   "outputs": [],
   "source": [
    "a = []\n",
    "for i in range(5):\n",
    "    c = 1\n",
    "    a.append(c)\n",
    "print(id(a[0]), id(a[1]))\n",
    "a[0] += 2\n",
    "print(id(a[0]), id(a[1]))\n",
    "print(a)"
   ]
  },
  {
   "cell_type": "code",
   "execution_count": null,
   "metadata": {},
   "outputs": [],
   "source": [
    "a = 0\n",
    "b = 0\n",
    "print(id(a), id(a))"
   ]
  },
  {
   "cell_type": "code",
   "execution_count": null,
   "metadata": {},
   "outputs": [],
   "source": [
    "from copy import deepcopy\n",
    "\n",
    "def empty_list(len_list, term=[]):\n",
    "    '''\n",
    "    返回一个全是空列表的列表\n",
    "    '''\n",
    "    list_return = []\n",
    "    for _ in range(len_list):\n",
    "        list_return.append(deepcopy(term))\n",
    "    return list_return\n",
    "\n",
    "a = empty_list(3)\n",
    "b = empty_list(3)\n",
    "print(id(a), id(b))\n",
    "print(id(a[0]), id(b[0]))\n",
    "print(id(a[0]), id(a[1]))"
   ]
  },
  {
   "cell_type": "code",
   "execution_count": null,
   "metadata": {},
   "outputs": [],
   "source": [
    "class A:\n",
    "    def __init__(self) -> None:\n",
    "        pass\n",
    "\n",
    "a = A()\n",
    "b = A()\n",
    "print(id(a), id(b))"
   ]
  },
  {
   "cell_type": "code",
   "execution_count": null,
   "metadata": {},
   "outputs": [],
   "source": [
    "from utils.data_util import *\n",
    "\n",
    "_, dataset, _, _, _ = get_dataset()\n",
    "print(len(dataset))\n",
    "print(type(dataset[3]), type(dataset[3][1]))\n",
    "# for i, data in enumerate(dataset):\n",
    "#     print(type(i), type(dataset[i]))"
   ]
  },
  {
   "cell_type": "code",
   "execution_count": null,
   "metadata": {},
   "outputs": [],
   "source": [
    "from utils.data_util import *\n",
    "\n",
    "_, dataset, _, _, _ = get_dataset()\n",
    "\n",
    "client_data =split_parts_random(dataset, [2, 3, 4])\n",
    "print(len(client_data), len(client_data[0]), len(client_data[1]))"
   ]
  },
  {
   "cell_type": "code",
   "execution_count": null,
   "metadata": {},
   "outputs": [],
   "source": [
    "from utils.lib_util import get_logger\n",
    "\n",
    "massage = 'test'\n",
    "file_name = 'test.txt'\n",
    "\n",
    "logger = get_logger(file_name)\n",
    "logger.info(massage)"
   ]
  },
  {
   "cell_type": "code",
   "execution_count": null,
   "metadata": {},
   "outputs": [],
   "source": [
    "import random\n",
    "import matplotlib.pyplot as plt\n",
    "\n",
    "\n",
    "x = [i for i in range(100)]\n",
    "y = [random.random() for i in range(100)]\n",
    "\n",
    "plt.plot(x, y)\n",
    "\n",
    "plt.show()"
   ]
  },
  {
   "cell_type": "code",
   "execution_count": null,
   "metadata": {},
   "outputs": [],
   "source": [
    "import numpy as np\n",
    "\n",
    "aa = int(np.log2(8 - 1)) + 1\n",
    "rota = [i for i in range(int(np.log2(8 - 1)) + 1)]\n",
    "\n",
    "source = (2 - rota[2 % len(rota)]) % 8\n",
    "dest = (2 + rota[2 % len(rota)]) % 8\n",
    "\n",
    "print(aa, a, source, dest)"
   ]
  },
  {
   "cell_type": "code",
   "execution_count": null,
   "metadata": {},
   "outputs": [],
   "source": [
    "# intra_comm_bcast.py\n",
    "\n",
    "import numpy as np\n",
    "from mpi4py import MPI\n",
    "\n",
    "\n",
    "comm = MPI.COMM_WORLD\n",
    "rank = comm.Get_rank()\n",
    "\n",
    "# broadcast a generic object by using bcast\n",
    "if rank == 1:\n",
    "    obj = {'a': 1}\n",
    "else:\n",
    "    obj = None\n",
    "\n",
    "obj = comm.bcast(obj, root=1)\n",
    "print('rank %d has %s' % (rank, obj))\n",
    "\n",
    "# broadcast a numpy array by using Bcast\n",
    "if rank == 2:\n",
    "    ary = np.arange(10, dtype='i')\n",
    "else:\n",
    "    ary = np.empty(10, dtype='i')\n",
    "\n",
    "comm.Bcast(ary, root=2)\n",
    "print('rank %d has %s' % (rank, ary))"
   ]
  },
  {
   "cell_type": "code",
   "execution_count": null,
   "metadata": {},
   "outputs": [],
   "source": [
    "import numpy as np\n",
    "#下面这个引用就是上面文章提供的脚本mnist.py\n",
    "from mnist import load_mnist\n",
    "from PIL import Image\n",
    "\n",
    "def img_show(img):\n",
    "    pil_img = Image.fromarray(np.uint8(img))\n",
    "    pil_img.show()\n",
    "\n",
    "(x_train, t_train), (x_test, t_test) = load_mnist(flatten=True,\n",
    "normalize=False)\n",
    "img = x_train[0]\n",
    "label = t_train[0]\n",
    "print(label) # 5\n",
    "\n",
    "#这里是把二维图像铺平成一维存放了\n",
    "print(img.shape)          # (784,1)\n",
    "img = img.reshape(28, 28) # 还原为二维\n",
    "print(img.shape)          # (28, 28)\n",
    "\n",
    "img_show(img)\n"
   ]
  },
  {
   "cell_type": "code",
   "execution_count": null,
   "metadata": {},
   "outputs": [],
   "source": [
    "from torch.utils.data import DataLoader\n",
    "from torchvision import datasets, transforms\n",
    "\n",
    "data_tf = transforms.Compose(\n",
    "    [transforms.ToTensor(),\n",
    "     transforms.Normalize([0.5], [0.5])])\n",
    "\n",
    "batch_size = 32\n",
    "# 读取测试数据，train=True读取训练数据；train=False读取测试数据\n",
    "train_dataset = datasets.MNIST(root='./data/raw-data/', train=True, transform=data_tf, download=True)\n",
    "test_dataset = datasets.MNIST(root='./data/raw-data/', train=False, transform=data_tf)\n",
    "test_loader = DataLoader(test_dataset, batch_size=batch_size, shuffle=False)\n",
    "\n",
    "examples = enumerate(test_loader) #img&label\n",
    "batch_idx, (imgs, labels) = next(examples) #读取数据,batch_idx从0开始\n",
    "\n",
    "# print(labels) #读取标签数据\n",
    "# print(labels.shape) #torch.Size([32])，因为batch_size为32\n",
    "\n",
    "#-------------------------------数据显示--------------------------------------------\n",
    "#显示6张图片\n",
    "import matplotlib.pyplot as plt\n",
    "fig = plt.figure()\n",
    "for i in range(6):\n",
    "  plt.subplot(2,3,i+1)\n",
    "  plt.tight_layout()\n",
    "  plt.imshow(imgs[i][0], cmap='gray', interpolation='none')#子显示\n",
    "  plt.title(\"Ground Truth: {}\".format(labels[i])) #显示title\n",
    "  plt.xticks([])\n",
    "  plt.yticks([])\n",
    "\n",
    "plt.show()"
   ]
  },
  {
   "cell_type": "code",
   "execution_count": 1,
   "metadata": {},
   "outputs": [
    {
     "data": {
      "image/png": "[encoded data removed]",
      "text/plain": [
       "<Figure size 640x480 with 1 Axes>"
      ]
     },
     "metadata": {},
     "output_type": "display_data"
    },
    {
     "data": {
      "image/png": "[encoded data removed]",
      "text/plain": [
       "<Figure size 640x480 with 1 Axes>"
      ]
     },
     "metadata": {},
     "output_type": "display_data"
    },
    {
     "data": {
      "image/png": "[encoded data removed]",
      "text/plain": [
       "<Figure size 640x480 with 1 Axes>"
      ]
     },
     "metadata": {},
     "output_type": "display_data"
    },
    {
     "data": {
      "image/png": "[encoded data removed]",
      "text/plain": [
       "<Figure size 640x480 with 1 Axes>"
      ]
     },
     "metadata": {},
     "output_type": "display_data"
    },
    {
     "data": {
      "image/png": "[encoded data removed]",
      "text/plain": [
       "<Figure size 640x480 with 1 Axes>"
      ]
     },
     "metadata": {},
     "output_type": "display_data"
    },
    {
     "data": {
      "image/png": "[encoded data removed]",
      "text/plain": [
       "<Figure size 640x480 with 1 Axes>"
      ]
     },
     "metadata": {},
     "output_type": "display_data"
    }
   ],
   "source": [
    "import random\n",
    "import torch\n",
    "import matplotlib.pyplot as plt\n",
    "from torch.utils.data import DataLoader\n",
    "\n",
    "from utils.model_util import *\n",
    "from utils.train_util import *\n",
    "from utils.data_util import *\n",
    "\n",
    "torch.set_printoptions(\n",
    "    precision=2,\n",
    "    threshold=1000,\n",
    "    edgeitems=5,\n",
    "    linewidth=1000,\n",
    "    sci_mode=False)\n",
    "\n",
    "\n",
    "\n",
    "def data_loader(dataset, batch_size, shuffle=True, device='cuda'):  #\n",
    "    num_data = len(dataset)\n",
    "    data_idxs = [i for i in range(num_data)]\n",
    "    if shuffle:\n",
    "        random.shuffle(data_idxs)\n",
    "    num_dataloader = num_data // batch_size\n",
    "    if num_data % batch_size:\n",
    "        num_dataloader += 1\n",
    "\n",
    "    for i in range(num_dataloader):\n",
    "        idx = i * batch_size\n",
    "        if i == num_dataloader-1 and idx < num_data:\n",
    "            image = ()\n",
    "            target = ()\n",
    "            for idx_single in range(idx, num_data):\n",
    "                data = dataset[data_idxs[idx_single]]\n",
    "                image += (data[0],)\n",
    "                target += (data[1],)\n",
    "            data_return = (torch.stack(image).to(device),\n",
    "                           torch.tensor(target).to(device))\n",
    "            yield data_return\n",
    "        else:\n",
    "            image = ()\n",
    "            target = ()\n",
    "            for idx_single in range(idx, idx+batch_size):\n",
    "                data = dataset[data_idxs[idx_single]]\n",
    "                image += (data[0],)\n",
    "                target += (data[1],)\n",
    "            data_return = (torch.stack(image).to(device),\n",
    "                           torch.tensor(target).to(device))\n",
    "            yield data_return\n",
    "\n",
    "\n",
    "def dataloader_(dataset, batch_size, shuffle=True, device='cpu'):\n",
    "    num_data = len(dataset)\n",
    "    images = dataset.data.unsqueeze(1) / 255\n",
    "    target = dataset.targets\n",
    "    idxs = [i for i in range(num_data)]\n",
    "    if shuffle:\n",
    "        random.shuffle(idxs)\n",
    "    num_dataloader = num_data // batch_size\n",
    "    if num_data % batch_size:\n",
    "        num_dataloader += 1\n",
    "    for i in range(num_dataloader):\n",
    "        idx = i * batch_size\n",
    "        if i == num_dataloader-1 and idx < num_data:\n",
    "            data_return = images[idx:]\n",
    "            target_return = target[idx:]\n",
    "            yield (data_return.to(device), target_return.to(device))\n",
    "        else:\n",
    "            data_return = images[idx: idx+batch_size]\n",
    "            target_return = target[idx: idx+batch_size]\n",
    "            yield (data_return.to(device), target_return.to(device))\n",
    "\n",
    "\n",
    "if __name__ == '__main__':\n",
    "    # 一次性将所有内容放到GPU上\n",
    "    train_data, test_data, c, h, w = get_dataset()\n",
    "\n",
    "    # train_data_loader = data_loader(train_data, 10000, shuffle=False)\n",
    "    train_data_loader = dataloader_(train_data, 10000, shuffle=False)\n",
    "    # train_data_loader  =DataLoader(train_data, batch_size=10000, shuffle=False)\n",
    "    for images, targets in train_data_loader:\n",
    "        # print(images[0][0].shape, images[0][0].device)\n",
    "        plt.tight_layout\n",
    "        plt.imshow(images[0][0], cmap='gray', interpolation='none')\n",
    "        # plt.title(\"Ground Truth: {}\".format(targets[0]))\n",
    "        plt.xticks([])\n",
    "        plt.yticks([])\n",
    "        plt.show()\n",
    "        # break"
   ]
  },
  {
   "cell_type": "code",
   "execution_count": 7,
   "metadata": {},
   "outputs": [
    {
     "name": "stdout",
     "output_type": "stream",
     "text": [
      "Files already downloaded and verified\n",
      "torch.Size([3, 32, 32]) 6 [[[[0.247 ]]\n",
      "\n",
      "  [[0.2435]]\n",
      "\n",
      "  [[0.2616]]]]\n"
     ]
    }
   ],
   "source": [
    "import numpy as np\n",
    "\n",
    "from utils.data_util import get_dataset\n",
    "\n",
    "train_data, test_data, c, h, w = get_dataset('cifar10')\n",
    "\n",
    "image, target = train_data[0][0], train_data[0][1]\n",
    "CIFAR10_TRAIN_STD = np.array((0.2470, 0.2435, 0.2616))[None, :, None, None]\n",
    "print(image.shape, target, CIFAR10_TRAIN_STD)"
   ]
  },
  {
   "cell_type": "code",
   "execution_count": 24,
   "metadata": {},
   "outputs": [
    {
     "name": "stdout",
     "output_type": "stream",
     "text": [
      "tensor([[[[-1., -1., -1., -1., -1.],\n",
      "          [-1., -1., -1., -1., -1.],\n",
      "          [-1., -1., -1., -1., -1.],\n",
      "          [-1., -1., -1., -1., -1.],\n",
      "          [-1., -1., -1., -1., -1.]],\n",
      "\n",
      "         [[-2., -2., -2., -2., -2.],\n",
      "          [-2., -2., -2., -2., -2.],\n",
      "          [-2., -2., -2., -2., -2.],\n",
      "          [-2., -2., -2., -2., -2.],\n",
      "          [-2., -2., -2., -2., -2.]],\n",
      "\n",
      "         [[-3., -3., -3., -3., -3.],\n",
      "          [-3., -3., -3., -3., -3.],\n",
      "          [-3., -3., -3., -3., -3.],\n",
      "          [-3., -3., -3., -3., -3.],\n",
      "          [-3., -3., -3., -3., -3.]]],\n",
      "\n",
      "\n",
      "        [[[-1., -1., -1., -1., -1.],\n",
      "          [-1., -1., -1., -1., -1.],\n",
      "          [-1., -1., -1., -1., -1.],\n",
      "          [-1., -1., -1., -1., -1.],\n",
      "          [-1., -1., -1., -1., -1.]],\n",
      "\n",
      "         [[-2., -2., -2., -2., -2.],\n",
      "          [-2., -2., -2., -2., -2.],\n",
      "          [-2., -2., -2., -2., -2.],\n",
      "          [-2., -2., -2., -2., -2.],\n",
      "          [-2., -2., -2., -2., -2.]],\n",
      "\n",
      "         [[-3., -3., -3., -3., -3.],\n",
      "          [-3., -3., -3., -3., -3.],\n",
      "          [-3., -3., -3., -3., -3.],\n",
      "          [-3., -3., -3., -3., -3.],\n",
      "          [-3., -3., -3., -3., -3.]]]]) torch.float32\n"
     ]
    }
   ],
   "source": [
    "import torch\n",
    "import numpy as np\n",
    "\n",
    "a = torch.ones([2, 3, 5, 5])\n",
    "# print(a)\n",
    "b = np.array((2, 3, 4), dtype='float32')[None, :, None, None]\n",
    "c = a - b\n",
    "print(c, c.dtype)"
   ]
  },
  {
   "cell_type": "code",
   "execution_count": 6,
   "metadata": {},
   "outputs": [
    {
     "name": "stdout",
     "output_type": "stream",
     "text": [
      "torch.Size([1, 3, 1, 1]) torch.Size([1, 3, 1, 1])\n",
      "tensor([[[[True]],\n",
      "\n",
      "         [[True]],\n",
      "\n",
      "         [[True]]]])\n"
     ]
    },
    {
     "ename": "IndexError",
     "evalue": "too many indices for tensor of dimension 1",
     "output_type": "error",
     "traceback": [
      "\u001b[0;31m---------------------------------------------------------------------------\u001b[0m",
      "\u001b[0;31mIndexError\u001b[0m                                Traceback (most recent call last)",
      "Cell \u001b[0;32mIn[6], line 12\u001b[0m\n\u001b[1;32m     10\u001b[0m \u001b[38;5;28mprint\u001b[39m(torch\u001b[38;5;241m.\u001b[39meq(b1, b2))\n\u001b[1;32m     11\u001b[0m c \u001b[38;5;241m=\u001b[39m torch\u001b[38;5;241m.\u001b[39mtensor([\u001b[38;5;241m1\u001b[39m, \u001b[38;5;241m1\u001b[39m, \u001b[38;5;241m1\u001b[39m, \u001b[38;5;241m1\u001b[39m])\n\u001b[0;32m---> 12\u001b[0m \u001b[43mc\u001b[49m\u001b[43m[\u001b[49m\u001b[38;5;241;43m0\u001b[39;49m\u001b[43m,\u001b[49m\u001b[43m \u001b[49m\u001b[43m:\u001b[49m\u001b[43m,\u001b[49m\u001b[43m \u001b[49m\u001b[38;5;241;43m0\u001b[39;49m\u001b[43m,\u001b[49m\u001b[43m \u001b[49m\u001b[38;5;241;43m0\u001b[39;49m\u001b[43m]\u001b[49m \u001b[38;5;241m=\u001b[39m b\n\u001b[1;32m     13\u001b[0m \u001b[38;5;28mprint\u001b[39m(c, c\u001b[38;5;241m.\u001b[39mdtype)\n",
      "\u001b[0;31mIndexError\u001b[0m: too many indices for tensor of dimension 1"
     ]
    }
   ],
   "source": [
    "import torch\n",
    "import numpy as np\n",
    "\n",
    "a = torch.ones([2, 3, 5, 5])\n",
    "# print(a)\n",
    "b = torch.tensor((2, 3, 4), dtype=torch.float32)\n",
    "b1 = b[None, :, None, None]\n",
    "b2 = b.unsqueeze(1).unsqueeze(1).unsqueeze(0)\n",
    "print(b1.shape, b2.shape)\n",
    "print(torch.eq(b1, b2))\n",
    "# c = torch.tensor([1, 1, 1, 1])\n",
    "# c[0, :, 0, 0] = b\n",
    "# print(c, c.dtype)"
   ]
  },
  {
   "cell_type": "code",
   "execution_count": 8,
   "metadata": {},
   "outputs": [
    {
     "name": "stdout",
     "output_type": "stream",
     "text": [
      "Files already downloaded and verified\n",
      "torch.Size([3, 32, 32]) 3 32 32\n"
     ]
    }
   ],
   "source": [
    "import numpy as np\n",
    "\n",
    "from utils.data_util import get_dataset\n",
    "\n",
    "train_data, test_data, c, h, w = get_dataset('cifar10')\n",
    "image, _ = train_data[0]\n",
    "\n",
    "print(image.shape, c, h, w)\n",
    "\n"
   ]
  },
  {
   "cell_type": "code",
   "execution_count": null,
   "metadata": {},
   "outputs": [],
   "source": []
  }
 ],
 "metadata": {
  "kernelspec": {
   "display_name": "fl",
   "language": "python",
   "name": "python3"
  },
  "language_info": {
   "codemirror_mode": {
    "name": "ipython",
    "version": 3
   },
   "file_extension": ".py",
   "mimetype": "text/x-python",
   "name": "python",
   "nbconvert_exporter": "python",
   "pygments_lexer": "ipython3",
   "version": "3.11.5"
  }
 },
 "nbformat": 4,
 "nbformat_minor": 2
}
