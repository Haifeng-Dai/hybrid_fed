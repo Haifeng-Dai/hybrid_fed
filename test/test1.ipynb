{
 "cells": [
  {
   "cell_type": "code",
   "execution_count": 23,
   "metadata": {},
   "outputs": [
    {
     "name": "stdout",
     "output_type": "stream",
     "text": [
      "tensor([[0.5038, 0.5959, 0.0348, 0.9352],\n",
      "        [0.3750, 0.6366, 0.2234, 0.2504],\n",
      "        [0.5024, 0.7087, 0.5638, 0.0750]])\n",
      "tensor([[0.5038, 0.5959, 0.0348, 0.9352],\n",
      "        [0.3750, 0.6366, 0.2234, 0.2504],\n",
      "        [0.5024, 0.7087, 0.5638, 0.0750]])\n"
     ]
    }
   ],
   "source": [
    "import torch\n",
    "\n",
    "a = torch.rand(3, 4)\n",
    "print(a)\n",
    "print(a.data)"
   ]
  }
 ],
 "metadata": {
  "kernelspec": {
   "display_name": "fl",
   "language": "python",
   "name": "python3"
  },
  "language_info": {
   "codemirror_mode": {
    "name": "ipython",
    "version": 3
   },
   "file_extension": ".py",
   "mimetype": "text/x-python",
   "name": "python",
   "nbconvert_exporter": "python",
   "pygments_lexer": "ipython3",
   "version": "3.11.5"
  }
 },
 "nbformat": 4,
 "nbformat_minor": 2
}
