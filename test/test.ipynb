{
 "cells": [
  {
   "cell_type": "code",
   "execution_count": 25,
   "metadata": {},
   "outputs": [],
   "source": [
    "import torchvision\n",
    "import torch\n",
    "\n",
    "from torch.utils.data import DataLoader, Dataset\n",
    "from utils.model_util import LeNet5, CNN, MLP\n",
    "from utils.train_util import *"
   ]
  },
  {
   "cell_type": "code",
   "execution_count": 26,
   "metadata": {},
   "outputs": [],
   "source": [
    "model = LeNet5(28, 28, 1, 10).cuda()\n",
    "train_dataset_loader = DataLoader(\n",
    "    dataset=torchvision.datasets.MNIST(\n",
    "        root='../data/raw-data/',\n",
    "        train=True,\n",
    "        transform=torchvision.transforms.ToTensor()),\n",
    "    batch_size=250,\n",
    "    shuffle=True)\n",
    "test_dataset_loader = DataLoader(\n",
    "    dataset=torchvision.datasets.mnist.MNIST(\n",
    "        root='../data/raw-data/',\n",
    "        transform=torchvision.transforms.ToTensor()),\n",
    "    batch_size=32,\n",
    "    shuffle=False)\n",
    "\n",
    "opti = torch.optim.Adam(model.parameters())\n",
    "criterion = torch.nn.CrossEntropyLoss()\n",
    "for data, target in train_dataset_loader:\n",
    "    opti.zero_grad()\n",
    "    output = model(data.cuda())\n",
    "    loss = criterion(output, target.cuda())\n",
    "    loss.backward()\n",
    "    opti.step()\n",
    "    break"
   ]
  },
  {
   "cell_type": "code",
   "execution_count": 34,
   "metadata": {},
   "outputs": [
    {
     "name": "stdout",
     "output_type": "stream",
     "text": [
      "tensor(2.3024, device='cuda:0', grad_fn=<NllLossBackward0>) <class 'torch.Tensor'>\n",
      "2.302428960800171 <class 'float'>\n"
     ]
    }
   ],
   "source": [
    "print(loss, type(loss))\n",
    "print(loss.item(), type(loss.item()))"
   ]
  },
  {
   "cell_type": "code",
   "execution_count": 35,
   "metadata": {},
   "outputs": [
    {
     "name": "stdout",
     "output_type": "stream",
     "text": [
      "Test Accuracy: 9.38%\n"
     ]
    }
   ],
   "source": [
    "model_copy = deepcopy(model).eval()\n",
    "model_copy.eval()\n",
    "model_copy.cuda()\n",
    "correct = 0\n",
    "total = 0\n",
    "data_loader = test_dataset_loader\n",
    "for images, targets in data_loader:\n",
    "    outputs = model_copy(images.cuda())\n",
    "    _, predicted = torch.max(outputs.data, 1)\n",
    "    total += targets.size(0)\n",
    "    correct += (predicted == targets.cuda()).sum().item()\n",
    "    break\n",
    "print('Test Accuracy: {:.2f}%'.format(100 * correct / total))"
   ]
  }
 ],
 "metadata": {
  "kernelspec": {
   "display_name": "fl",
   "language": "python",
   "name": "python3"
  },
  "language_info": {
   "codemirror_mode": {
    "name": "ipython",
    "version": 3
   },
   "file_extension": ".py",
   "mimetype": "text/x-python",
   "name": "python",
   "nbconvert_exporter": "python",
   "pygments_lexer": "ipython3",
   "version": "3.11.5"
  }
 },
 "nbformat": 4,
 "nbformat_minor": 2
}
