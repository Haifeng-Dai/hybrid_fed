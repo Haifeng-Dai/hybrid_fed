{
 "cells": [
  {
   "cell_type": "code",
   "execution_count": 1,
   "metadata": {},
   "outputs": [],
   "source": [
    "import torchvision\n",
    "import torch\n",
    "import sys\n",
    "\n",
    "sys.path.append(\"..\")\n",
    "\n",
    "from torch.utils.data import DataLoader, Dataset\n",
    "from utils.model_util import LeNet5, CNN, MLP\n",
    "from utils.train_util import *"
   ]
  },
  {
   "cell_type": "code",
   "execution_count": 2,
   "metadata": {},
   "outputs": [
    {
     "name": "stdout",
     "output_type": "stream",
     "text": [
      "1387.6546630859375\n",
      "1385.5897216796875\n",
      "1381.2158203125\n",
      "1382.1663818359375\n",
      "1382.4404296875\n",
      "1378.5506591796875\n",
      "1376.6419677734375\n",
      "1374.6002197265625\n",
      "1372.0262451171875\n",
      "1367.2415771484375\n",
      "1362.730712890625\n",
      "1361.0374755859375\n",
      "1358.40234375\n",
      "1346.23291015625\n",
      "1337.410888671875\n",
      "1326.302734375\n",
      "1308.9014892578125\n",
      "1302.1546630859375\n",
      "1284.792236328125\n",
      "1271.6314697265625\n",
      "1257.94873046875\n",
      "1232.860107421875\n",
      "1201.1700439453125\n",
      "1163.3885498046875\n",
      "1144.0504150390625\n",
      "1091.7138671875\n",
      "1064.5404052734375\n",
      "1018.1316528320312\n",
      "988.1824340820312\n",
      "969.216064453125\n",
      "881.040283203125\n",
      "846.0673828125\n",
      "754.8175048828125\n",
      "756.2213134765625\n",
      "715.6175537109375\n",
      "677.116943359375\n",
      "616.1062622070312\n",
      "653.5068359375\n",
      "544.3605346679688\n",
      "568.1482543945312\n",
      "552.0859375\n",
      "565.171630859375\n",
      "448.8465881347656\n",
      "530.3010864257812\n",
      "560.0924682617188\n",
      "531.82080078125\n",
      "424.9000244140625\n",
      "464.9433898925781\n",
      "454.2672424316406\n",
      "486.6104431152344\n",
      "446.0724182128906\n",
      "427.84521484375\n",
      "512.3550415039062\n",
      "449.49951171875\n",
      "405.20953369140625\n",
      "433.8404541015625\n",
      "295.36224365234375\n",
      "398.7676696777344\n",
      "370.4119873046875\n",
      "327.7208557128906\n",
      "293.7098693847656\n",
      "341.9886474609375\n",
      "504.1996765136719\n",
      "330.4626770019531\n",
      "311.52691650390625\n",
      "398.7127990722656\n",
      "370.97528076171875\n",
      "334.6434326171875\n",
      "343.83551025390625\n",
      "359.3688659667969\n",
      "391.6076354980469\n",
      "381.26885986328125\n",
      "251.20257568359375\n",
      "347.80059814453125\n",
      "297.1111145019531\n",
      "336.6908874511719\n",
      "313.9843444824219\n",
      "299.36279296875\n",
      "307.8089294433594\n",
      "299.2287902832031\n",
      "253.8193817138672\n",
      "327.0343933105469\n",
      "311.94354248046875\n",
      "372.6185302734375\n",
      "289.6729736328125\n",
      "262.0583801269531\n",
      "315.2629089355469\n",
      "294.15118408203125\n",
      "352.7037048339844\n",
      "277.4533386230469\n",
      "275.9687194824219\n",
      "274.10845947265625\n",
      "248.72146606445312\n",
      "232.29763793945312\n",
      "226.07708740234375\n",
      "228.6210174560547\n",
      "256.61529541015625\n",
      "164.61053466796875\n",
      "177.57525634765625\n",
      "218.60411071777344\n",
      "tensor(218.6041, device='cuda:0', grad_fn=<NllLossBackward0>) <class 'torch.Tensor'>\n",
      "218.60411071777344 <class 'float'>\n"
     ]
    }
   ],
   "source": [
    "model = LeNet5(28, 28, 1, 10).cuda()\n",
    "train_dataset_loader = DataLoader(\n",
    "    dataset=torchvision.datasets.MNIST(\n",
    "        root='../data/raw-data/',\n",
    "        train=True,\n",
    "        transform=torchvision.transforms.ToTensor()),\n",
    "    batch_size=600,\n",
    "    shuffle=False)\n",
    "test_dataset_loader = DataLoader(\n",
    "    dataset=torchvision.datasets.mnist.MNIST(\n",
    "        root='../data/raw-data/',\n",
    "        transform=torchvision.transforms.ToTensor()),\n",
    "    batch_size=32,\n",
    "    shuffle=False)\n",
    "test_dataset = torchvision.datasets.mnist.MNIST(\n",
    "    root='../data/raw-data/',\n",
    "    transform=torchvision.transforms.ToTensor())\n",
    "\n",
    "opti = torch.optim.Adam(model.parameters())\n",
    "criterion = torch.nn.CrossEntropyLoss(reduction='sum')\n",
    "for data, target in train_dataset_loader:\n",
    "    opti.zero_grad()\n",
    "    output = model(data.cuda())\n",
    "    loss = criterion(output, target.cuda())\n",
    "    loss.backward()\n",
    "    print(loss.item())\n",
    "    opti.step()\n",
    "\n",
    "print(loss, type(loss))\n",
    "print(loss.item(), type(loss.item()))"
   ]
  },
  {
   "cell_type": "code",
   "execution_count": 3,
   "metadata": {},
   "outputs": [],
   "source": [
    "model = LeNet5(28, 28, 1, 10).cuda()\n",
    "train_dataset_loader = DataLoader(\n",
    "    dataset=torchvision.datasets.MNIST(\n",
    "        root='../data/raw-data/',\n",
    "        train=True,\n",
    "        transform=torchvision.transforms.ToTensor()),\n",
    "    batch_size=600,\n",
    "    shuffle=False)\n",
    "test_dataset_loader = DataLoader(\n",
    "    dataset=torchvision.datasets.mnist.MNIST(\n",
    "        root='../data/raw-data/',\n",
    "        transform=torchvision.transforms.ToTensor()),\n",
    "    batch_size=32,\n",
    "    shuffle=False)\n",
    "\n",
    "opti = torch.optim.Adam(model.parameters())\n",
    "criterion = torch.nn.CrossEntropyLoss(reduction='sum')\n",
    "loss_sum = 0\n",
    "for data, target in train_dataset_loader:\n",
    "    opti.zero_grad()\n",
    "    output = model(data.cuda())\n",
    "    loss = criterion(output, target.cuda())\n",
    "    # print(f'loss_sum = {loss_sum:<20}', end=' | ')\n",
    "    loss.backward()\n",
    "    loss_sum += loss.item()\n",
    "    # print(f'loss = {loss.item():<20}')\n",
    "    opti.step()"
   ]
  },
  {
   "cell_type": "code",
   "execution_count": 4,
   "metadata": {},
   "outputs": [
    {
     "data": {
      "text/plain": [
       "tensor(0.8725, device='cuda:0')"
      ]
     },
     "execution_count": 4,
     "metadata": {},
     "output_type": "execute_result"
    }
   ],
   "source": [
    "def eval_model(model, dataset, device):\n",
    "    '''\n",
    "    评估模型\n",
    "    '''\n",
    "    model_copy = deepcopy(model).eval()\n",
    "    correct = 0\n",
    "    data_loader = DataLoader(dataset, batch_size=32)\n",
    "    for images, targets in data_loader:\n",
    "        outputs = model_copy(images.to(device))\n",
    "        _, predicted = torch.max(outputs, 1)\n",
    "        correct += torch.eq(predicted, targets.to(device)).sum()\n",
    "    # print(f'Test Accuracy: {100 * correct / total:.2f}%')\n",
    "    accuracy = correct / len(dataset)\n",
    "    return accuracy\n",
    "\n",
    "eval_model(model, test_dataset, 'cuda')"
   ]
  },
  {
   "cell_type": "code",
   "execution_count": 5,
   "metadata": {},
   "outputs": [
    {
     "name": "stdout",
     "output_type": "stream",
     "text": [
      "Test Accuracy: 84.38%\n"
     ]
    }
   ],
   "source": [
    "model_copy = deepcopy(model).eval()\n",
    "model_copy.eval()\n",
    "model_copy.cuda()\n",
    "correct = 0\n",
    "total = 0\n",
    "data_loader = test_dataset_loader\n",
    "for images, targets in data_loader:\n",
    "    outputs = model_copy(images.cuda())\n",
    "    _, predicted = torch.max(outputs.data, 1)\n",
    "    total += targets.size(0)\n",
    "    correct += (predicted == targets.cuda()).sum().item()\n",
    "    break\n",
    "print('Test Accuracy: {:.2f}%'.format(100 * correct / total))"
   ]
  },
  {
   "cell_type": "code",
   "execution_count": 6,
   "metadata": {},
   "outputs": [
    {
     "name": "stdout",
     "output_type": "stream",
     "text": [
      "8         |\n",
      "8.00|\n",
      "9         |\n",
      "9.00|\n",
      "10        |\n",
      "10.00|\n",
      "11        |\n",
      "11.00|\n",
      "12        |\n",
      "12.00|\n"
     ]
    }
   ],
   "source": [
    "for i in range(8, 13):\n",
    "    print(f'{i:<10}|')\n",
    "    print(f'{i:.2f}|')"
   ]
  },
  {
   "cell_type": "code",
   "execution_count": 3,
   "metadata": {},
   "outputs": [
    {
     "name": "stdout",
     "output_type": "stream",
     "text": [
      "[[], [], [], [], [], []]\n"
     ]
    }
   ],
   "source": [
    "def get_list(len_list, term=[]):\n",
    "    '''\n",
    "    返回一个全是空列表的列表\n",
    "    '''\n",
    "    list_return = []\n",
    "    for _ in range(len_list):\n",
    "        list_return.append(term)\n",
    "    return list_return\n",
    "\n",
    "num_all_client = 6\n",
    "num_all_server = 2\n",
    "\n",
    "server_model = get_list(num_all_server)\n",
    "server_accuracy = get_list(num_all_server)\n",
    "client_accuracy = get_list(num_all_client)\n",
    "server_client_model = get_list(num_all_server)\n",
    "server_model_distillation_accuracy = get_list(num_all_server)\n",
    "\n",
    "print(client_accuracy)"
   ]
  }
 ],
 "metadata": {
  "kernelspec": {
   "display_name": "fl",
   "language": "python",
   "name": "python3"
  },
  "language_info": {
   "codemirror_mode": {
    "name": "ipython",
    "version": 3
   },
   "file_extension": ".py",
   "mimetype": "text/x-python",
   "name": "python",
   "nbconvert_exporter": "python",
   "pygments_lexer": "ipython3",
   "version": "3.11.5"
  }
 },
 "nbformat": 4,
 "nbformat_minor": 2
}
