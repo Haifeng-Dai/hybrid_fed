{
 "cells": [
  {
   "cell_type": "code",
   "execution_count": 1,
   "metadata": {},
   "outputs": [],
   "source": [
    "import torch\n",
    "import torchvision\n",
    "import numpy\n",
    "\n",
    "from torch.utils.data import Dataset, DataLoader\n",
    "\n",
    "torch.set_printoptions(\n",
    "    precision=1,  # 精度，保留小数点后几位，默认4\n",
    "    threshold=100000,  # 最大数据量\n",
    "    edgeitems=3,  # 在缩略显示时在起始和默认显示的元素个数\n",
    "    linewidth=150,  # 每行最多显示的字符数，默认80，超过则换行显示\n",
    "    profile=None,  # 3种预定义的显示模板，可选’default’、‘short’、‘full’\n",
    "    sci_mode=False  # 用科学技术法显示数据，默认True\n",
    ")\n",
    "if torch.cuda.is_available():\n",
    "    device = 'cuda'\n",
    "else:\n",
    "    device = 'cpu'\n",
    "print(device)"
   ]
  },
  {
   "cell_type": "code",
   "execution_count": null,
   "metadata": {},
   "outputs": [],
   "source": [
    "train_dataset = torchvision.datasets.MNIST(\n",
    "    root='./data',\n",
    "    train=True,\n",
    "    transform=torchvision.transforms.ToTensor(),   #将图片转化成取值[0,1]的Tensor用于网络处理, [H, W, C]转化成[C ,H, W]\n",
    "    download=True\n",
    ")\n",
    "test_dataset = torchvision.datasets.MNIST(\n",
    "    root='./data',\n",
    "    train=False,\n",
    "    transform=torchvision.transforms.ToTensor()\n",
    ")"
   ]
  },
  {
   "cell_type": "code",
   "execution_count": null,
   "metadata": {},
   "outputs": [],
   "source": [
    "data = train_dataset.data\n",
    "print(type(data), data.size())\n",
    "a_date = data[59999, :, :]\n",
    "a_date = a_date.unsqueeze(0)\n",
    "print(a_date, a_date.size())"
   ]
  },
  {
   "cell_type": "code",
   "execution_count": null,
   "metadata": {},
   "outputs": [],
   "source": [
    "label = train_dataset.targets\n",
    "print(type(label), label.size())\n",
    "a_date_label = label[1:2]\n",
    "print(a_date_label, type(a_date_label), a_date_label.size())"
   ]
  },
  {
   "cell_type": "code",
   "execution_count": null,
   "metadata": {},
   "outputs": [],
   "source": [
    "class DealDataset(Dataset):\n",
    "    def __init__(self, dataset, idx):\n",
    "        self.dataset = dataset\n",
    "        self.idx = idx\n",
    "        self.len = len(idx)\n",
    "\n",
    "    def __len__(self):\n",
    "        return self.len\n",
    "\n",
    "    def __getitem__(self, index):\n",
    "        img, target = self.dataset[self.idx[index]]\n",
    "        return img, target\n",
    "\n",
    "dataset = DealDataset(train_dataset, [0, 1, 2, 3])\n",
    "train_dataloader = DataLoader(dataset, batch_size=2)\n",
    "\n",
    "data, b= train_dataloader\n",
    "a_data, a_label = data\n",
    "print(a_data, type(a_data), a_data.size())\n",
    "print(a_label, type(a_label), a_label.size())"
   ]
  },
  {
   "cell_type": "code",
   "execution_count": null,
   "metadata": {},
   "outputs": [],
   "source": [
    "train_dataset = torchvision.datasets.CIFAR10(\n",
    "    root='./data',\n",
    "    train=True,\n",
    "    transform=torchvision.transforms.ToTensor(),\n",
    "    download=True\n",
    ")\n",
    "\n",
    "data = train_dataset.data[0]\n",
    "print(data, type(data))\n",
    "print(data.shape)"
   ]
  },
  {
   "cell_type": "code",
   "execution_count": null,
   "metadata": {},
   "outputs": [],
   "source": [
    "a = numpy.random.random([32, 34])\n",
    "b = torchvision.transforms.ToTensor()(a)\n",
    "print(a, a.shape)\n",
    "print(b, b.shape)"
   ]
  }
 ],
 "metadata": {
  "kernelspec": {
   "display_name": "fl",
   "language": "python",
   "name": "python3"
  },
  "language_info": {
   "codemirror_mode": {
    "name": "ipython",
    "version": 3
   },
   "file_extension": ".py",
   "mimetype": "text/x-python",
   "name": "python",
   "nbconvert_exporter": "python",
   "pygments_lexer": "ipython3",
   "version": "3.11.5"
  }
 },
 "nbformat": 4,
 "nbformat_minor": 2
}
