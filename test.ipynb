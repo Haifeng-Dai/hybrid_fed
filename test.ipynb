{
 "cells": [
  {
   "cell_type": "code",
   "execution_count": 100,
   "metadata": {},
   "outputs": [],
   "source": [
    "import torch\n",
    "\n",
    "import matplotlib.pyplot as plt\n",
    "\n",
    "from torch.utils.data import DataLoader\n",
    "from torchvision.datasets import CIFAR10\n",
    "\n",
    "from utils.model_util import *\n",
    "from utils.data_util import *\n",
    "from utils.lib_util import *\n",
    "from utils.train_util import *\n",
    "\n",
    "plt.style.use('default')\n",
    "\n",
    "device = 'cuda'"
   ]
  },
  {
   "cell_type": "code",
   "execution_count": 101,
   "metadata": {},
   "outputs": [],
   "source": [
    "train_data = CIFAR10(\n",
    "    root='./data/',\n",
    "    train=True,\n",
    "    transform=torchvision.transforms.ToTensor(),\n",
    "    download=False)\n",
    "test_data = CIFAR10(\n",
    "    root='./data/',\n",
    "    train=False,\n",
    "    transform=torchvision.transforms.ToTensor(),\n",
    "    download=False)\n",
    "train_dataloader = DataLoader(\n",
    "    dataset=train_data,\n",
    "    batch_size=160,\n",
    "    shuffle=True,\n",
    "    pin_memory=True,\n",
    "    num_workers=4)\n",
    "test_dataloader = DataLoader(\n",
    "    dataset=test_data,\n",
    "    batch_size=200,\n",
    "    shuffle=False,\n",
    "    pin_memory=True,\n",
    "    num_workers=4)"
   ]
  },
  {
   "cell_type": "code",
   "execution_count": 102,
   "metadata": {},
   "outputs": [],
   "source": [
    "epochs = 10\n",
    "model = torchvision.models.resnet18(weights=None, num_classes=10).to(device).train()\n",
    "optimizer = torch.optim.Adam(model.parameters())\n",
    "loss_func = torch.nn.CrossEntropyLoss().to(device)\n",
    "for epoch in range(epochs):\n",
    "    for data, target in train_dataloader:\n",
    "        optimizer.zero_grad()\n",
    "        output = model(data.to(device))\n",
    "        loss = loss_func(output, target.to(device))\n",
    "        loss.backward()\n",
    "        optimizer.step()"
   ]
  },
  {
   "cell_type": "code",
   "execution_count": 103,
   "metadata": {},
   "outputs": [
    {
     "name": "stdout",
     "output_type": "stream",
     "text": [
      "0.7315999865531921\n"
     ]
    }
   ],
   "source": [
    "acc = eval_model(model, test_dataloader, device)\n",
    "print(acc)\n",
    "# print(output.shape)\n",
    "# print(model)"
   ]
  },
  {
   "cell_type": "code",
   "execution_count": 104,
   "metadata": {},
   "outputs": [],
   "source": [
    "# parameters = deepcopy(model.state_dict())\n",
    "# print(len(parameters))\n",
    "# for i, key in enumerate(parameters):\n",
    "#     if parameters[key].shape == torch.Size([]):\n",
    "#         print(i, key, parameters[key].shape)"
   ]
  },
  {
   "cell_type": "code",
   "execution_count": 105,
   "metadata": {},
   "outputs": [],
   "source": [
    "model1 = CNN(32, 32, 3, 10).to(device).train()\n",
    "optimizer = torch.optim.Adam(model1.parameters())\n",
    "loss_func = torch.nn.CrossEntropyLoss().to(device)\n",
    "for epoch in range(epochs):\n",
    "    for data, target in train_dataloader:\n",
    "        optimizer.zero_grad()\n",
    "        output = model1(data.to(device))\n",
    "        loss = loss_func(output, target.to(device))\n",
    "        loss.backward()\n",
    "        optimizer.step()"
   ]
  },
  {
   "cell_type": "code",
   "execution_count": 106,
   "metadata": {},
   "outputs": [
    {
     "name": "stdout",
     "output_type": "stream",
     "text": [
      "0.5429999828338623\n"
     ]
    }
   ],
   "source": [
    "acc = eval_model(model1, test_dataloader, device)\n",
    "print(acc)\n",
    "# print(output.shape)\n",
    "# print(model)"
   ]
  },
  {
   "cell_type": "code",
   "execution_count": 4,
   "metadata": {},
   "outputs": [
    {
     "name": "stdout",
     "output_type": "stream",
     "text": [
      "[1, 2, 3] 1 2 3\n"
     ]
    }
   ],
   "source": [
    "a = [1, 2, 3]\n",
    "print(a, *a)"
   ]
  },
  {
   "cell_type": "code",
   "execution_count": 2,
   "metadata": {},
   "outputs": [
    {
     "name": "stdout",
     "output_type": "stream",
     "text": [
      "3 3\n"
     ]
    }
   ],
   "source": [
    "import torch\n",
    "\n",
    "a = torch.tensor([1, 2, 3], device='cuda')\n",
    "print(a.size(0), a.shape[0])"
   ]
  },
  {
   "cell_type": "code",
   "execution_count": null,
   "metadata": {},
   "outputs": [],
   "source": []
  }
 ],
 "metadata": {
  "kernelspec": {
   "display_name": "fl",
   "language": "python",
   "name": "python3"
  },
  "language_info": {
   "codemirror_mode": {
    "name": "ipython",
    "version": 3
   },
   "file_extension": ".py",
   "mimetype": "text/x-python",
   "name": "python",
   "nbconvert_exporter": "python",
   "pygments_lexer": "ipython3",
   "version": "3.11.5"
  }
 },
 "nbformat": 4,
 "nbformat_minor": 2
}
