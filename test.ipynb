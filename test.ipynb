{
 "cells": [
  {
   "cell_type": "code",
   "execution_count": 1,
   "metadata": {},
   "outputs": [],
   "source": [
    "import torch\n",
    "import torchvision\n",
    "\n",
    "from utils.data_util import *\n",
    "from utils.train_util import *\n",
    "from torch.utils.data import DataLoader\n",
    "\n",
    "torch.set_printoptions(\n",
    "    precision=2,\n",
    "    threshold=1000,\n",
    "    edgeitems=5,\n",
    "    linewidth=1000,\n",
    "    sci_mode=False)\n"
   ]
  },
  {
   "cell_type": "code",
   "execution_count": 2,
   "metadata": {},
   "outputs": [
    {
     "name": "stdout",
     "output_type": "stream",
     "text": [
      "Files already downloaded and verified\n"
     ]
    }
   ],
   "source": [
    "train_dataset, test_dataset, c, h, w = get_dataset('cifar10')\n",
    "net1 = LeNet5(h, w, c, num_classes=10)\n",
    "model = net1.cuda()\n",
    "trainloader = DataLoader(\n",
    "    dataset=train_dataset,\n",
    "    batch_size=160,\n",
    "    shuffle=True,\n",
    "    pin_memory=True,\n",
    "    num_workers=8)\n",
    "testloader = DataLoader(\n",
    "    dataset=test_dataset,\n",
    "    batch_size=160,\n",
    "    shuffle=True,\n",
    "    pin_memory=True,\n",
    "    num_workers=8)"
   ]
  },
  {
   "cell_type": "code",
   "execution_count": 3,
   "metadata": {},
   "outputs": [],
   "source": [
    "loss_func = torch.nn.CrossEntropyLoss().cuda()\n",
    "for i in range(10):\n",
    "    trained_model = deepcopy(model)\n",
    "    trained_model.train()\n",
    "    optimizer = torch.optim.Adam(trained_model.parameters())\n",
    "    loss_ = []\n",
    "    for data, target in trainloader:\n",
    "        optimizer.zero_grad()\n",
    "        output = trained_model(data.cuda())\n",
    "        loss = loss_func(output, target.cuda())\n",
    "        loss.backward()\n",
    "        optimizer.step()\n",
    "        loss_.append(loss.item())\n",
    "        # break"
   ]
  },
  {
   "cell_type": "code",
   "execution_count": 18,
   "metadata": {},
   "outputs": [
    {
     "name": "stdout",
     "output_type": "stream",
     "text": [
      "torch.Size([3, 32, 32])\n",
      "torch.Size([1, 3, 32, 32])\n",
      "torch.Size([1, 10]) tensor([[-0.02, -0.08, -0.09,  0.04,  0.04, -0.03,  0.00,  0.05,  0.02, -0.05]], device='cuda:0', grad_fn=<AddmmBackward0>)\n"
     ]
    }
   ],
   "source": [
    "for data, target in testloader:\n",
    "    for i in range(data.shape[0]):\n",
    "        data_i = data[i, :, :]\n",
    "        print(data_i.shape)\n",
    "        data_i = torch.unsqueeze(data_i, 0)\n",
    "        print(data_i.shape)\n",
    "        output = model(data_i.cuda())\n",
    "        print(output.shape, output)\n",
    "        break\n",
    "    break"
   ]
  },
  {
   "cell_type": "code",
   "execution_count": null,
   "metadata": {},
   "outputs": [
    {
     "name": "stdout",
     "output_type": "stream",
     "text": [
      "0.3333999812602997\n"
     ]
    }
   ],
   "source": [
    "acc = eval_model(trained_model, testloader, 'cuda')\n",
    "print(acc)"
   ]
  }
 ],
 "metadata": {
  "kernelspec": {
   "display_name": "fl",
   "language": "python",
   "name": "python3"
  },
  "language_info": {
   "codemirror_mode": {
    "name": "ipython",
    "version": 3
   },
   "file_extension": ".py",
   "mimetype": "text/x-python",
   "name": "python",
   "nbconvert_exporter": "python",
   "pygments_lexer": "ipython3",
   "version": "3.11.7"
  }
 },
 "nbformat": 4,
 "nbformat_minor": 2
}
