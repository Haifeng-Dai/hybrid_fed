{
 "cells": [
  {
   "cell_type": "code",
   "execution_count": 1,
   "metadata": {},
   "outputs": [],
   "source": [
    "import torch\n",
    "import torchvision\n",
    "\n",
    "from utils.data_util import *\n",
    "from utils.train_util import *\n",
    "from torch.utils.data import DataLoader\n",
    "\n",
    "net1 = torchvision.models.resnet18(weights=None, num_classes=10)\n",
    "gpus = [0, 1, 2]\n",
    "model = torch.nn.DataParallel(net1.cuda(), device_ids=gpus, output_device=gpus[0])"
   ]
  },
  {
   "cell_type": "code",
   "execution_count": 2,
   "metadata": {},
   "outputs": [
    {
     "name": "stdout",
     "output_type": "stream",
     "text": [
      "Files already downloaded and verified\n"
     ]
    }
   ],
   "source": [
    "train_dataset, test_dataset, c, h, w = get_dataset('cifar10')\n",
    "trainloader = DataLoader(\n",
    "    dataset=train_dataset,\n",
    "    batch_size=320,\n",
    "    shuffle=True,\n",
    "    pin_memory=True,\n",
    "    num_workers=8)\n",
    "testloader = DataLoader(\n",
    "    dataset=test_dataset,\n",
    "    batch_size=160,\n",
    "    shuffle=True,\n",
    "    pin_memory=True,\n",
    "    num_workers=8)"
   ]
  },
  {
   "cell_type": "code",
   "execution_count": 102,
   "metadata": {},
   "outputs": [],
   "source": [
    "for i in range(10):\n",
    "    trained_model = deepcopy(model)\n",
    "    trained_model.train()\n",
    "    optimizer = torch.optim.Adam(trained_model.parameters())\n",
    "    loss_ = []\n",
    "    for data, target in trainloader:\n",
    "        optimizer.zero_grad()\n",
    "        output = trained_model(data)\n",
    "        loss = torch.nn.CrossEntropyLoss()(output, target.cuda())\n",
    "        loss.backward()\n",
    "        optimizer.step()\n",
    "        loss_.append(loss.item())\n",
    "    print(i)"
   ]
  },
  {
   "cell_type": "code",
   "execution_count": 1,
   "metadata": {},
   "outputs": [
    {
     "name": "stdout",
     "output_type": "stream",
     "text": [
      "{0: [1, 3, 4, 2], 1: [5, 6, 8, 7]}\n"
     ]
    }
   ],
   "source": [
    "from random import shuffle\n",
    "\n",
    "a = {0: [1, 2, 3, 4], 1: [5, 6, 7, 8]}\n",
    "for key in a.keys():\n",
    "    shuffle(a[key])\n",
    "print(a)"
   ]
  },
  {
   "cell_type": "code",
   "execution_count": 2,
   "metadata": {},
   "outputs": [
    {
     "name": "stdout",
     "output_type": "stream",
     "text": [
      "2\n"
     ]
    }
   ],
   "source": [
    "print(8 // 3)"
   ]
  }
 ],
 "metadata": {
  "kernelspec": {
   "display_name": "fl",
   "language": "python",
   "name": "python3"
  },
  "language_info": {
   "codemirror_mode": {
    "name": "ipython",
    "version": 3
   },
   "file_extension": ".py",
   "mimetype": "text/x-python",
   "name": "python",
   "nbconvert_exporter": "python",
   "pygments_lexer": "ipython3",
   "version": "3.11.7"
  }
 },
 "nbformat": 4,
 "nbformat_minor": 2
}
