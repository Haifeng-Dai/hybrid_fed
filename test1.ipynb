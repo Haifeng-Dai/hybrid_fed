{
 "cells": [
  {
   "cell_type": "code",
   "execution_count": 1,
   "metadata": {},
   "outputs": [
    {
     "name": "stdout",
     "output_type": "stream",
     "text": [
      "3 [0, 1, 2]\n"
     ]
    }
   ],
   "source": [
    "import torch\n",
    "import torchvision\n",
    "\n",
    "from utils.data_util import *\n",
    "from utils.train_util import *\n",
    "from torch.utils.data import DataLoader\n",
    "\n",
    "net1 = torchvision.models.resnet18(weights=None, num_classes=10)\n",
    "loss_func = torch.nn.CrossEntropyLoss()\n",
    "num_device = torch.cuda.device_count()\n",
    "device_list = [i for i in range(num_device)]\n",
    "print(num_device, device_list)\n",
    "\n",
    "net1 = torch.nn.DataParallel(net1.cuda(), device_ids=device_list, output_device=device_list[0])\n",
    "loss_func = torch.nn.DataParallel(loss_func.cuda(), device_ids=device_list, output_device=device_list[0])"
   ]
  },
  {
   "cell_type": "code",
   "execution_count": 2,
   "metadata": {},
   "outputs": [
    {
     "name": "stdout",
     "output_type": "stream",
     "text": [
      "Files already downloaded and verified\n"
     ]
    }
   ],
   "source": [
    "train_dataset, test_dataset, c, h, w = get_dataset('cifar10')\n",
    "trainloader = DataLoader(\n",
    "    dataset=train_dataset,\n",
    "    batch_size=320,\n",
    "    shuffle=True,\n",
    "    pin_memory=True,\n",
    "    num_workers=20)\n",
    "testloader = DataLoader(\n",
    "    dataset=test_dataset,\n",
    "    batch_size=160,\n",
    "    shuffle=True,\n",
    "    pin_memory=True,\n",
    "    num_workers=20)"
   ]
  },
  {
   "cell_type": "code",
   "execution_count": 3,
   "metadata": {},
   "outputs": [
    {
     "name": "stdout",
     "output_type": "stream",
     "text": [
      "0\n",
      "1\n",
      "2\n",
      "3\n",
      "4\n",
      "5\n",
      "6\n",
      "7\n"
     ]
    },
    {
     "ename": "KeyboardInterrupt",
     "evalue": "",
     "output_type": "error",
     "traceback": [
      "\u001b[0;31m---------------------------------------------------------------------------\u001b[0m",
      "\u001b[0;31mKeyboardInterrupt\u001b[0m                         Traceback (most recent call last)",
      "Cell \u001b[0;32mIn[3], line 13\u001b[0m\n\u001b[1;32m     11\u001b[0m     loss\u001b[38;5;241m.\u001b[39mbackward()\n\u001b[1;32m     12\u001b[0m     optimizer\u001b[38;5;241m.\u001b[39mstep()\n\u001b[0;32m---> 13\u001b[0m     loss_\u001b[38;5;241m.\u001b[39mappend(\u001b[43mloss\u001b[49m\u001b[38;5;241;43m.\u001b[39;49m\u001b[43mitem\u001b[49m\u001b[43m(\u001b[49m\u001b[43m)\u001b[49m)\n\u001b[1;32m     14\u001b[0m \u001b[38;5;28mprint\u001b[39m(i)\n",
      "\u001b[0;31mKeyboardInterrupt\u001b[0m: "
     ]
    }
   ],
   "source": [
    "loss_func = torch.nn.CrossEntropyLoss().cuda()\n",
    "for i in range(10):\n",
    "    trained_model = deepcopy(net1).cuda()\n",
    "    trained_model.train()\n",
    "    optimizer = torch.optim.Adam(trained_model.parameters())\n",
    "    loss_ = []\n",
    "    for data, target in trainloader:\n",
    "        optimizer.zero_grad()\n",
    "        output = trained_model(data.cuda())\n",
    "        loss = loss_func(output, target.cuda())\n",
    "        loss.backward()\n",
    "        optimizer.step()\n",
    "        loss_.append(loss.item())\n",
    "    print(i)"
   ]
  },
  {
   "cell_type": "code",
   "execution_count": null,
   "metadata": {},
   "outputs": [
    {
     "name": "stdout",
     "output_type": "stream",
     "text": [
      "0.10009999573230743\n"
     ]
    }
   ],
   "source": [
    "acc = eval_model(net1.eval(), testloader, 'cuda')\n",
    "print(acc)"
   ]
  }
 ],
 "metadata": {
  "kernelspec": {
   "display_name": "fl",
   "language": "python",
   "name": "python3"
  },
  "language_info": {
   "codemirror_mode": {
    "name": "ipython",
    "version": 3
   },
   "file_extension": ".py",
   "mimetype": "text/x-python",
   "name": "python",
   "nbconvert_exporter": "python",
   "pygments_lexer": "ipython3",
   "version": "3.11.7"
  }
 },
 "nbformat": 4,
 "nbformat_minor": 2
}
